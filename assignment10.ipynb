{
 "cells": [
  {
   "cell_type": "code",
   "execution_count": 1,
   "id": "af2c73bc",
   "metadata": {},
   "outputs": [],
   "source": [
    "#importing necessary libararies\n",
    "\n",
    "import numpy as np\n",
    "from scipy.stats import ks_2samp\n",
    "from statsmodels.stats.proportion import proportions_ztest\n",
    "import pandas as pd\n"
   ]
  },
  {
   "cell_type": "markdown",
   "id": "b3145884",
   "metadata": {},
   "source": [
    "Part 1 :A/B Testing using Ad Click Prediction"
   ]
  },
  {
   "cell_type": "code",
   "execution_count": 2,
   "metadata": {},
   "outputs": [
    {
     "name": "stdout",
     "output_type": "stream",
     "text": [
      "     id full_name   age      gender device_type ad_position browsing_history  \\\n",
      "0   670   User670  22.0         NaN     Desktop         Top         Shopping   \n",
      "1  3044  User3044   NaN        Male     Desktop         Top              NaN   \n",
      "2  5912  User5912  41.0  Non-Binary         NaN        Side        Education   \n",
      "3  5418  User5418  34.0        Male         NaN         NaN    Entertainment   \n",
      "4  9452  User9452  39.0  Non-Binary         NaN         NaN     Social Media   \n",
      "\n",
      "  time_of_day  click  \n",
      "0   Afternoon      1  \n",
      "1         NaN      1  \n",
      "2       Night      1  \n",
      "3     Evening      1  \n",
      "4     Morning      0  \n"
     ]
    }
   ],
   "source": [
    "\n",
    "# printing first few rows of dataset\n",
    "df = pd.read_csv(\"ad_click_dataset.csv\")\n",
    "print(df.head())"
   ]
  },
  {
   "cell_type": "code",
   "execution_count": 3,
   "id": "c8fef0bc",
   "metadata": {},
   "outputs": [
    {
     "name": "stdout",
     "output_type": "stream",
     "text": [
      "<class 'pandas.core.frame.DataFrame'>\n",
      "RangeIndex: 10000 entries, 0 to 9999\n",
      "Data columns (total 9 columns):\n",
      " #   Column            Non-Null Count  Dtype  \n",
      "---  ------            --------------  -----  \n",
      " 0   id                10000 non-null  int64  \n",
      " 1   full_name         10000 non-null  object \n",
      " 2   age               5234 non-null   float64\n",
      " 3   gender            5307 non-null   object \n",
      " 4   device_type       8000 non-null   object \n",
      " 5   ad_position       8000 non-null   object \n",
      " 6   browsing_history  5218 non-null   object \n",
      " 7   time_of_day       8000 non-null   object \n",
      " 8   click             10000 non-null  int64  \n",
      "dtypes: float64(1), int64(2), object(6)\n",
      "memory usage: 703.3+ KB\n",
      "None\n"
     ]
    }
   ],
   "source": [
    "print(df.info())   #getting information of the data"
   ]
  },
  {
   "cell_type": "code",
   "execution_count": null,
   "metadata": {},
   "outputs": [
    {
     "name": "stdout",
     "output_type": "stream",
     "text": [
      "\n",
      "Missing values:\n",
      " id                     0\n",
      "full_name              0\n",
      "age                 4766\n",
      "gender              4693\n",
      "device_type         2000\n",
      "ad_position         2000\n",
      "browsing_history    4782\n",
      "time_of_day         2000\n",
      "click                  0\n",
      "dtype: int64\n"
     ]
    }
   ],
   "source": [
    "\n",
    "# doing data cleaning\n",
    "print(\"\\nMissing values:\\n\", df.isnull().sum())\n",
    "\n",
    "df = df.dropna(subset=['click'])\n",
    "df = df.dropna(subset=['ad_position'])"
   ]
  },
  {
   "cell_type": "code",
   "execution_count": 6,
   "id": "c74400e2",
   "metadata": {},
   "outputs": [
    {
     "name": "stdout",
     "output_type": "stream",
     "text": [
      "<class 'pandas.core.frame.DataFrame'>\n",
      "Index: 8000 entries, 0 to 9999\n",
      "Data columns (total 9 columns):\n",
      " #   Column            Non-Null Count  Dtype  \n",
      "---  ------            --------------  -----  \n",
      " 0   id                8000 non-null   int64  \n",
      " 1   full_name         8000 non-null   object \n",
      " 2   age               4186 non-null   float64\n",
      " 3   gender            4221 non-null   object \n",
      " 4   device_type       6433 non-null   object \n",
      " 5   ad_position       8000 non-null   object \n",
      " 6   browsing_history  4227 non-null   object \n",
      " 7   time_of_day       6408 non-null   object \n",
      " 8   click             8000 non-null   int64  \n",
      "dtypes: float64(1), int64(2), object(6)\n",
      "memory usage: 625.0+ KB\n",
      "None\n"
     ]
    }
   ],
   "source": [
    "print(df.info()) "
   ]
  },
  {
   "cell_type": "code",
   "execution_count": 8,
   "id": "f6ccff7d",
   "metadata": {},
   "outputs": [
    {
     "data": {
      "application/vnd.microsoft.datawrangler.viewer.v0+json": {
       "columns": [
        {
         "name": "index",
         "rawType": "int64",
         "type": "integer"
        },
        {
         "name": "id",
         "rawType": "int64",
         "type": "integer"
        },
        {
         "name": "full_name",
         "rawType": "object",
         "type": "string"
        },
        {
         "name": "age",
         "rawType": "float64",
         "type": "float"
        },
        {
         "name": "gender",
         "rawType": "float64",
         "type": "float"
        },
        {
         "name": "device_type",
         "rawType": "object",
         "type": "string"
        },
        {
         "name": "ad_position",
         "rawType": "float64",
         "type": "float"
        },
        {
         "name": "browsing_history",
         "rawType": "object",
         "type": "string"
        },
        {
         "name": "time_of_day",
         "rawType": "object",
         "type": "string"
        },
        {
         "name": "click",
         "rawType": "int64",
         "type": "integer"
        }
       ],
       "conversionMethod": "pd.DataFrame",
       "ref": "5688a755-4ddf-4f02-8062-4a7004f8ee39",
       "rows": [
        [
         "17",
         "188",
         "User188",
         "56.0",
         "1.0",
         "Tablet",
         "1.0",
         "News",
         "Morning",
         "1"
        ],
        [
         "25",
         "4890",
         "User4890",
         "43.0",
         "0.0",
         "Tablet",
         "1.0",
         "Education",
         "Afternoon",
         "1"
        ],
        [
         "33",
         "4985",
         "User4985",
         "37.0",
         "0.0",
         "Mobile",
         "0.0",
         "News",
         "Evening",
         "0"
        ],
        [
         "52",
         "9888",
         "User9888",
         "49.0",
         "0.0",
         "Mobile",
         "0.0",
         "News",
         "Morning",
         "1"
        ],
        [
         "102",
         "8201",
         "User8201",
         "59.0",
         "1.0",
         "Desktop",
         "1.0",
         "Social Media",
         "Morning",
         "0"
        ],
        [
         "122",
         "5484",
         "User5484",
         "64.0",
         "1.0",
         "Mobile",
         null,
         "Education",
         "Morning",
         "0"
        ],
        [
         "135",
         "5703",
         "User5703",
         "55.0",
         "1.0",
         "Tablet",
         null,
         "Shopping",
         "Night",
         "0"
        ],
        [
         "140",
         "820",
         "User820",
         "39.0",
         null,
         "Mobile",
         null,
         "Social Media",
         "Afternoon",
         "0"
        ],
        [
         "146",
         "4630",
         "User4630",
         "19.0",
         null,
         "Tablet",
         null,
         "Shopping",
         "Evening",
         "0"
        ],
        [
         "154",
         "118",
         "User118",
         "43.0",
         "1.0",
         "Tablet",
         "1.0",
         "Social Media",
         "Night",
         "0"
        ],
        [
         "158",
         "3007",
         "User3007",
         "42.0",
         "0.0",
         "Desktop",
         "0.0",
         "Shopping",
         "Night",
         "0"
        ],
        [
         "170",
         "3062",
         "User3062",
         "34.0",
         "0.0",
         "Desktop",
         "1.0",
         "Entertainment",
         "Evening",
         "1"
        ],
        [
         "185",
         "2757",
         "User2757",
         "35.0",
         "1.0",
         "Mobile",
         "1.0",
         "Social Media",
         "Night",
         "0"
        ],
        [
         "204",
         "8530",
         "User8530",
         "52.0",
         "1.0",
         "Mobile",
         "0.0",
         "Social Media",
         "Afternoon",
         "1"
        ],
        [
         "210",
         "9748",
         "User9748",
         "47.0",
         null,
         "Tablet",
         "1.0",
         "Entertainment",
         "Afternoon",
         "0"
        ],
        [
         "231",
         "4625",
         "User4625",
         "33.0",
         null,
         "Mobile",
         "0.0",
         "News",
         "Morning",
         "0"
        ],
        [
         "232",
         "8459",
         "User8459",
         "38.0",
         null,
         "Tablet",
         "1.0",
         "Entertainment",
         "Morning",
         "1"
        ],
        [
         "244",
         "6167",
         "User6167",
         "20.0",
         "0.0",
         "Mobile",
         null,
         "Shopping",
         "Night",
         "1"
        ],
        [
         "246",
         "6919",
         "User6919",
         "45.0",
         null,
         "Desktop",
         "0.0",
         "Social Media",
         "Night",
         "0"
        ],
        [
         "275",
         "7678",
         "User7678",
         "53.0",
         "1.0",
         "Desktop",
         "0.0",
         "Social Media",
         "Night",
         "0"
        ],
        [
         "284",
         "8115",
         "User8115",
         "20.0",
         "1.0",
         "Mobile",
         "0.0",
         "Social Media",
         "Afternoon",
         "1"
        ],
        [
         "289",
         "1214",
         "User1214",
         "26.0",
         "1.0",
         "Mobile",
         "1.0",
         "News",
         "Evening",
         "1"
        ],
        [
         "292",
         "3236",
         "User3236",
         "56.0",
         "1.0",
         "Mobile",
         "1.0",
         "Education",
         "Morning",
         "1"
        ],
        [
         "295",
         "6576",
         "User6576",
         "62.0",
         "1.0",
         "Desktop",
         "1.0",
         "Entertainment",
         "Morning",
         "1"
        ],
        [
         "298",
         "5501",
         "User5501",
         "28.0",
         null,
         "Mobile",
         "1.0",
         "Social Media",
         "Evening",
         "1"
        ],
        [
         "317",
         "5258",
         "User5258",
         "50.0",
         null,
         "Desktop",
         null,
         "Education",
         "Night",
         "0"
        ],
        [
         "324",
         "5890",
         "User5890",
         "56.0",
         "1.0",
         "Mobile",
         "1.0",
         "News",
         "Night",
         "1"
        ],
        [
         "361",
         "1099",
         "User1099",
         "36.0",
         "0.0",
         "Tablet",
         "0.0",
         "Shopping",
         "Night",
         "0"
        ],
        [
         "364",
         "2964",
         "User2964",
         "40.0",
         null,
         "Mobile",
         null,
         "Entertainment",
         "Night",
         "1"
        ],
        [
         "365",
         "9807",
         "User9807",
         "35.0",
         null,
         "Tablet",
         "1.0",
         "Education",
         "Night",
         "1"
        ],
        [
         "367",
         "6883",
         "User6883",
         "32.0",
         "0.0",
         "Desktop",
         null,
         "News",
         "Afternoon",
         "0"
        ],
        [
         "368",
         "1470",
         "User1470",
         "25.0",
         "0.0",
         "Tablet",
         "0.0",
         "Social Media",
         "Evening",
         "0"
        ],
        [
         "397",
         "5403",
         "User5403",
         "61.0",
         "0.0",
         "Desktop",
         "0.0",
         "Education",
         "Night",
         "0"
        ],
        [
         "420",
         "7438",
         "User7438",
         "53.0",
         null,
         "Mobile",
         null,
         "News",
         "Morning",
         "1"
        ],
        [
         "423",
         "5756",
         "User5756",
         "51.0",
         null,
         "Tablet",
         "0.0",
         "Shopping",
         "Afternoon",
         "1"
        ],
        [
         "428",
         "5338",
         "User5338",
         "51.0",
         "0.0",
         "Mobile",
         "0.0",
         "Social Media",
         "Morning",
         "1"
        ],
        [
         "436",
         "346",
         "User346",
         "29.0",
         "0.0",
         "Mobile",
         "0.0",
         "News",
         "Evening",
         "0"
        ],
        [
         "437",
         "5756",
         "User5756",
         "51.0",
         null,
         "Tablet",
         "0.0",
         "Shopping",
         "Afternoon",
         "1"
        ],
        [
         "460",
         "5766",
         "User5766",
         "63.0",
         "0.0",
         "Desktop",
         null,
         "Social Media",
         "Evening",
         "1"
        ],
        [
         "468",
         "7438",
         "User7438",
         "53.0",
         null,
         "Mobile",
         null,
         "News",
         "Morning",
         "1"
        ],
        [
         "474",
         "6811",
         "User6811",
         "24.0",
         "0.0",
         "Mobile",
         "1.0",
         "Education",
         "Evening",
         "1"
        ],
        [
         "489",
         "7748",
         "User7748",
         "57.0",
         "1.0",
         "Desktop",
         "0.0",
         "News",
         "Night",
         "0"
        ],
        [
         "490",
         "5922",
         "User5922",
         "62.0",
         "1.0",
         "Mobile",
         null,
         "Entertainment",
         "Afternoon",
         "0"
        ],
        [
         "506",
         "9695",
         "User9695",
         "26.0",
         "0.0",
         "Desktop",
         null,
         "Entertainment",
         "Night",
         "0"
        ],
        [
         "527",
         "3430",
         "User3430",
         "61.0",
         "0.0",
         "Desktop",
         null,
         "Social Media",
         "Morning",
         "1"
        ],
        [
         "541",
         "911",
         "User911",
         "32.0",
         null,
         "Desktop",
         "0.0",
         "Entertainment",
         "Night",
         "1"
        ],
        [
         "559",
         "4559",
         "User4559",
         "30.0",
         "1.0",
         "Desktop",
         "1.0",
         "News",
         "Night",
         "0"
        ],
        [
         "571",
         "8459",
         "User8459",
         "38.0",
         null,
         "Tablet",
         "1.0",
         "Entertainment",
         "Morning",
         "1"
        ],
        [
         "575",
         "8726",
         "User8726",
         "62.0",
         "1.0",
         "Desktop",
         null,
         "Education",
         "Morning",
         "1"
        ],
        [
         "626",
         "1914",
         "User1914",
         "42.0",
         "0.0",
         "Tablet",
         "1.0",
         "Shopping",
         "Night",
         "1"
        ]
       ],
       "shape": {
        "columns": 9,
        "rows": 816
       }
      },
      "text/html": [
       "<div>\n",
       "<style scoped>\n",
       "    .dataframe tbody tr th:only-of-type {\n",
       "        vertical-align: middle;\n",
       "    }\n",
       "\n",
       "    .dataframe tbody tr th {\n",
       "        vertical-align: top;\n",
       "    }\n",
       "\n",
       "    .dataframe thead th {\n",
       "        text-align: right;\n",
       "    }\n",
       "</style>\n",
       "<table border=\"1\" class=\"dataframe\">\n",
       "  <thead>\n",
       "    <tr style=\"text-align: right;\">\n",
       "      <th></th>\n",
       "      <th>id</th>\n",
       "      <th>full_name</th>\n",
       "      <th>age</th>\n",
       "      <th>gender</th>\n",
       "      <th>device_type</th>\n",
       "      <th>ad_position</th>\n",
       "      <th>browsing_history</th>\n",
       "      <th>time_of_day</th>\n",
       "      <th>click</th>\n",
       "    </tr>\n",
       "  </thead>\n",
       "  <tbody>\n",
       "    <tr>\n",
       "      <th>17</th>\n",
       "      <td>188</td>\n",
       "      <td>User188</td>\n",
       "      <td>56.0</td>\n",
       "      <td>1.0</td>\n",
       "      <td>Tablet</td>\n",
       "      <td>1.0</td>\n",
       "      <td>News</td>\n",
       "      <td>Morning</td>\n",
       "      <td>1</td>\n",
       "    </tr>\n",
       "    <tr>\n",
       "      <th>25</th>\n",
       "      <td>4890</td>\n",
       "      <td>User4890</td>\n",
       "      <td>43.0</td>\n",
       "      <td>0.0</td>\n",
       "      <td>Tablet</td>\n",
       "      <td>1.0</td>\n",
       "      <td>Education</td>\n",
       "      <td>Afternoon</td>\n",
       "      <td>1</td>\n",
       "    </tr>\n",
       "    <tr>\n",
       "      <th>33</th>\n",
       "      <td>4985</td>\n",
       "      <td>User4985</td>\n",
       "      <td>37.0</td>\n",
       "      <td>0.0</td>\n",
       "      <td>Mobile</td>\n",
       "      <td>0.0</td>\n",
       "      <td>News</td>\n",
       "      <td>Evening</td>\n",
       "      <td>0</td>\n",
       "    </tr>\n",
       "    <tr>\n",
       "      <th>52</th>\n",
       "      <td>9888</td>\n",
       "      <td>User9888</td>\n",
       "      <td>49.0</td>\n",
       "      <td>0.0</td>\n",
       "      <td>Mobile</td>\n",
       "      <td>0.0</td>\n",
       "      <td>News</td>\n",
       "      <td>Morning</td>\n",
       "      <td>1</td>\n",
       "    </tr>\n",
       "    <tr>\n",
       "      <th>102</th>\n",
       "      <td>8201</td>\n",
       "      <td>User8201</td>\n",
       "      <td>59.0</td>\n",
       "      <td>1.0</td>\n",
       "      <td>Desktop</td>\n",
       "      <td>1.0</td>\n",
       "      <td>Social Media</td>\n",
       "      <td>Morning</td>\n",
       "      <td>0</td>\n",
       "    </tr>\n",
       "    <tr>\n",
       "      <th>...</th>\n",
       "      <td>...</td>\n",
       "      <td>...</td>\n",
       "      <td>...</td>\n",
       "      <td>...</td>\n",
       "      <td>...</td>\n",
       "      <td>...</td>\n",
       "      <td>...</td>\n",
       "      <td>...</td>\n",
       "      <td>...</td>\n",
       "    </tr>\n",
       "    <tr>\n",
       "      <th>9951</th>\n",
       "      <td>7268</td>\n",
       "      <td>User7268</td>\n",
       "      <td>28.0</td>\n",
       "      <td>1.0</td>\n",
       "      <td>Desktop</td>\n",
       "      <td>1.0</td>\n",
       "      <td>News</td>\n",
       "      <td>Evening</td>\n",
       "      <td>1</td>\n",
       "    </tr>\n",
       "    <tr>\n",
       "      <th>9952</th>\n",
       "      <td>5912</td>\n",
       "      <td>User5912</td>\n",
       "      <td>41.0</td>\n",
       "      <td>NaN</td>\n",
       "      <td>Mobile</td>\n",
       "      <td>NaN</td>\n",
       "      <td>Education</td>\n",
       "      <td>Night</td>\n",
       "      <td>1</td>\n",
       "    </tr>\n",
       "    <tr>\n",
       "      <th>9960</th>\n",
       "      <td>9638</td>\n",
       "      <td>User9638</td>\n",
       "      <td>64.0</td>\n",
       "      <td>NaN</td>\n",
       "      <td>Desktop</td>\n",
       "      <td>0.0</td>\n",
       "      <td>Entertainment</td>\n",
       "      <td>Morning</td>\n",
       "      <td>0</td>\n",
       "    </tr>\n",
       "    <tr>\n",
       "      <th>9986</th>\n",
       "      <td>5574</td>\n",
       "      <td>User5574</td>\n",
       "      <td>52.0</td>\n",
       "      <td>1.0</td>\n",
       "      <td>Desktop</td>\n",
       "      <td>1.0</td>\n",
       "      <td>Shopping</td>\n",
       "      <td>Afternoon</td>\n",
       "      <td>1</td>\n",
       "    </tr>\n",
       "    <tr>\n",
       "      <th>9999</th>\n",
       "      <td>3056</td>\n",
       "      <td>User3056</td>\n",
       "      <td>44.0</td>\n",
       "      <td>0.0</td>\n",
       "      <td>Tablet</td>\n",
       "      <td>0.0</td>\n",
       "      <td>Social Media</td>\n",
       "      <td>Morning</td>\n",
       "      <td>0</td>\n",
       "    </tr>\n",
       "  </tbody>\n",
       "</table>\n",
       "<p>816 rows × 9 columns</p>\n",
       "</div>"
      ],
      "text/plain": [
       "        id full_name   age  gender device_type  ad_position browsing_history  \\\n",
       "17     188   User188  56.0     1.0      Tablet          1.0             News   \n",
       "25    4890  User4890  43.0     0.0      Tablet          1.0        Education   \n",
       "33    4985  User4985  37.0     0.0      Mobile          0.0             News   \n",
       "52    9888  User9888  49.0     0.0      Mobile          0.0             News   \n",
       "102   8201  User8201  59.0     1.0     Desktop          1.0     Social Media   \n",
       "...    ...       ...   ...     ...         ...          ...              ...   \n",
       "9951  7268  User7268  28.0     1.0     Desktop          1.0             News   \n",
       "9952  5912  User5912  41.0     NaN      Mobile          NaN        Education   \n",
       "9960  9638  User9638  64.0     NaN     Desktop          0.0    Entertainment   \n",
       "9986  5574  User5574  52.0     1.0     Desktop          1.0         Shopping   \n",
       "9999  3056  User3056  44.0     0.0      Tablet          0.0     Social Media   \n",
       "\n",
       "     time_of_day  click  \n",
       "17       Morning      1  \n",
       "25     Afternoon      1  \n",
       "33       Evening      0  \n",
       "52       Morning      1  \n",
       "102      Morning      0  \n",
       "...          ...    ...  \n",
       "9951     Evening      1  \n",
       "9952       Night      1  \n",
       "9960     Morning      0  \n",
       "9986   Afternoon      1  \n",
       "9999     Morning      0  \n",
       "\n",
       "[816 rows x 9 columns]"
      ]
     },
     "execution_count": 8,
     "metadata": {},
     "output_type": "execute_result"
    }
   ],
   "source": [
    "df\n"
   ]
  },
  {
   "cell_type": "code",
   "execution_count": 7,
   "id": "5864b36a",
   "metadata": {},
   "outputs": [
    {
     "name": "stdout",
     "output_type": "stream",
     "text": [
      "[nan 'Male' 'Non-Binary' 'Female']\n",
      "['Top' 'Side' 'Bottom']\n"
     ]
    }
   ],
   "source": [
    "print(df['gender'].unique())\n",
    "print(df['ad_position'].unique())\n"
   ]
  },
  {
   "cell_type": "code",
   "execution_count": 8,
   "id": "09554405",
   "metadata": {},
   "outputs": [],
   "source": [
    "# The categorical columns are gender,ad_position\n",
    "df['gender'] = df['gender'].astype('category')\n",
    "df['ad_position'] = df['ad_position'].astype('category')"
   ]
  },
  {
   "cell_type": "code",
   "execution_count": null,
   "id": "3e97bdc1",
   "metadata": {},
   "outputs": [],
   "source": [
    "# converting to categorical\n",
    "df['gender'] = df['gender'].astype('category')\n",
    "df['ad_position'] = df['ad_position'].astype('category')\n",
    "\n",
    "# map gender categories\n",
    "df['gender'] = df['gender'].map({'Male': 0, 'Female': 1, 'Non-Binary': 2})\n",
    "\n",
    "# convert to category again and add -1 to handle NaN values\n",
    "df['gender'] = df['gender'].astype('category')\n",
    "df['gender'] = df['gender'].cat.add_categories([-1])\n",
    "df['gender'] = df['gender'].fillna(-1)\n",
    "\n",
    "# mapping ad_position categories\n",
    "df['ad_position'] = df['ad_position'].map({'Top':0,'Bottom':1,'Side':2})\n"
   ]
  },
  {
   "cell_type": "code",
   "execution_count": 10,
   "id": "7b30c78c",
   "metadata": {},
   "outputs": [
    {
     "data": {
      "application/vnd.microsoft.datawrangler.viewer.v0+json": {
       "columns": [
        {
         "name": "index",
         "rawType": "int64",
         "type": "integer"
        },
        {
         "name": "id",
         "rawType": "int64",
         "type": "integer"
        },
        {
         "name": "full_name",
         "rawType": "object",
         "type": "string"
        },
        {
         "name": "age",
         "rawType": "float64",
         "type": "float"
        },
        {
         "name": "gender",
         "rawType": "category",
         "type": "unknown"
        },
        {
         "name": "device_type",
         "rawType": "object",
         "type": "unknown"
        },
        {
         "name": "ad_position",
         "rawType": "category",
         "type": "unknown"
        },
        {
         "name": "browsing_history",
         "rawType": "object",
         "type": "unknown"
        },
        {
         "name": "time_of_day",
         "rawType": "object",
         "type": "unknown"
        },
        {
         "name": "click",
         "rawType": "int64",
         "type": "integer"
        }
       ],
       "conversionMethod": "pd.DataFrame",
       "ref": "4f706980-a1e9-445b-a127-63dfc4bf39db",
       "rows": [
        [
         "0",
         "670",
         "User670",
         "22.0",
         "-1",
         "Desktop",
         "0",
         "Shopping",
         "Afternoon",
         "1"
        ],
        [
         "1",
         "3044",
         "User3044",
         null,
         "0",
         "Desktop",
         "0",
         null,
         null,
         "1"
        ],
        [
         "2",
         "5912",
         "User5912",
         "41.0",
         "2",
         null,
         "2",
         "Education",
         "Night",
         "1"
        ],
        [
         "5",
         "5942",
         "User5942",
         null,
         "2",
         null,
         "1",
         "Social Media",
         "Evening",
         "1"
        ],
        [
         "6",
         "7808",
         "User7808",
         "26.0",
         "1",
         "Desktop",
         "0",
         null,
         null,
         "1"
        ]
       ],
       "shape": {
        "columns": 9,
        "rows": 5
       }
      },
      "text/html": [
       "<div>\n",
       "<style scoped>\n",
       "    .dataframe tbody tr th:only-of-type {\n",
       "        vertical-align: middle;\n",
       "    }\n",
       "\n",
       "    .dataframe tbody tr th {\n",
       "        vertical-align: top;\n",
       "    }\n",
       "\n",
       "    .dataframe thead th {\n",
       "        text-align: right;\n",
       "    }\n",
       "</style>\n",
       "<table border=\"1\" class=\"dataframe\">\n",
       "  <thead>\n",
       "    <tr style=\"text-align: right;\">\n",
       "      <th></th>\n",
       "      <th>id</th>\n",
       "      <th>full_name</th>\n",
       "      <th>age</th>\n",
       "      <th>gender</th>\n",
       "      <th>device_type</th>\n",
       "      <th>ad_position</th>\n",
       "      <th>browsing_history</th>\n",
       "      <th>time_of_day</th>\n",
       "      <th>click</th>\n",
       "    </tr>\n",
       "  </thead>\n",
       "  <tbody>\n",
       "    <tr>\n",
       "      <th>0</th>\n",
       "      <td>670</td>\n",
       "      <td>User670</td>\n",
       "      <td>22.0</td>\n",
       "      <td>-1</td>\n",
       "      <td>Desktop</td>\n",
       "      <td>0</td>\n",
       "      <td>Shopping</td>\n",
       "      <td>Afternoon</td>\n",
       "      <td>1</td>\n",
       "    </tr>\n",
       "    <tr>\n",
       "      <th>1</th>\n",
       "      <td>3044</td>\n",
       "      <td>User3044</td>\n",
       "      <td>NaN</td>\n",
       "      <td>0</td>\n",
       "      <td>Desktop</td>\n",
       "      <td>0</td>\n",
       "      <td>NaN</td>\n",
       "      <td>NaN</td>\n",
       "      <td>1</td>\n",
       "    </tr>\n",
       "    <tr>\n",
       "      <th>2</th>\n",
       "      <td>5912</td>\n",
       "      <td>User5912</td>\n",
       "      <td>41.0</td>\n",
       "      <td>2</td>\n",
       "      <td>NaN</td>\n",
       "      <td>2</td>\n",
       "      <td>Education</td>\n",
       "      <td>Night</td>\n",
       "      <td>1</td>\n",
       "    </tr>\n",
       "    <tr>\n",
       "      <th>5</th>\n",
       "      <td>5942</td>\n",
       "      <td>User5942</td>\n",
       "      <td>NaN</td>\n",
       "      <td>2</td>\n",
       "      <td>NaN</td>\n",
       "      <td>1</td>\n",
       "      <td>Social Media</td>\n",
       "      <td>Evening</td>\n",
       "      <td>1</td>\n",
       "    </tr>\n",
       "    <tr>\n",
       "      <th>6</th>\n",
       "      <td>7808</td>\n",
       "      <td>User7808</td>\n",
       "      <td>26.0</td>\n",
       "      <td>1</td>\n",
       "      <td>Desktop</td>\n",
       "      <td>0</td>\n",
       "      <td>NaN</td>\n",
       "      <td>NaN</td>\n",
       "      <td>1</td>\n",
       "    </tr>\n",
       "  </tbody>\n",
       "</table>\n",
       "</div>"
      ],
      "text/plain": [
       "     id full_name   age gender device_type ad_position browsing_history  \\\n",
       "0   670   User670  22.0     -1     Desktop           0         Shopping   \n",
       "1  3044  User3044   NaN      0     Desktop           0              NaN   \n",
       "2  5912  User5912  41.0      2         NaN           2        Education   \n",
       "5  5942  User5942   NaN      2         NaN           1     Social Media   \n",
       "6  7808  User7808  26.0      1     Desktop           0              NaN   \n",
       "\n",
       "  time_of_day  click  \n",
       "0   Afternoon      1  \n",
       "1         NaN      1  \n",
       "2       Night      1  \n",
       "5     Evening      1  \n",
       "6         NaN      1  "
      ]
     },
     "execution_count": 10,
     "metadata": {},
     "output_type": "execute_result"
    }
   ],
   "source": [
    "df.head()"
   ]
  },
  {
   "cell_type": "code",
   "execution_count": 11,
   "metadata": {},
   "outputs": [],
   "source": [
    "# splitting into group A (Top) and group B (bottom)\n",
    "group_a = df[df['ad_position'] == 0]\n",
    "group_b = df[df['ad_position'] == 1]"
   ]
  },
  {
   "cell_type": "code",
   "execution_count": 15,
   "id": "c3a26697",
   "metadata": {},
   "outputs": [
    {
     "data": {
      "application/vnd.microsoft.datawrangler.viewer.v0+json": {
       "columns": [
        {
         "name": "index",
         "rawType": "int64",
         "type": "integer"
        },
        {
         "name": "id",
         "rawType": "int64",
         "type": "integer"
        },
        {
         "name": "full_name",
         "rawType": "object",
         "type": "string"
        },
        {
         "name": "age",
         "rawType": "float64",
         "type": "float"
        },
        {
         "name": "gender",
         "rawType": "category",
         "type": "unknown"
        },
        {
         "name": "device_type",
         "rawType": "object",
         "type": "unknown"
        },
        {
         "name": "ad_position",
         "rawType": "category",
         "type": "unknown"
        },
        {
         "name": "browsing_history",
         "rawType": "object",
         "type": "unknown"
        },
        {
         "name": "time_of_day",
         "rawType": "object",
         "type": "unknown"
        },
        {
         "name": "click",
         "rawType": "int64",
         "type": "integer"
        }
       ],
       "conversionMethod": "pd.DataFrame",
       "ref": "ac4083e0-771e-4565-96e9-86dbfcdd21f7",
       "rows": [
        [
         "0",
         "670",
         "User670",
         "22.0",
         "-1",
         "Desktop",
         "0",
         "Shopping",
         "Afternoon",
         "1"
        ],
        [
         "1",
         "3044",
         "User3044",
         null,
         "0",
         "Desktop",
         "0",
         null,
         null,
         "1"
        ],
        [
         "6",
         "7808",
         "User7808",
         "26.0",
         "1",
         "Desktop",
         "0",
         null,
         null,
         "1"
        ],
        [
         "15",
         "7529",
         "User7529",
         null,
         "-1",
         null,
         "0",
         "Entertainment",
         "Afternoon",
         "0"
        ],
        [
         "18",
         "2124",
         "User2124",
         null,
         "0",
         "Desktop",
         "0",
         null,
         "Evening",
         "1"
        ]
       ],
       "shape": {
        "columns": 9,
        "rows": 5
       }
      },
      "text/html": [
       "<div>\n",
       "<style scoped>\n",
       "    .dataframe tbody tr th:only-of-type {\n",
       "        vertical-align: middle;\n",
       "    }\n",
       "\n",
       "    .dataframe tbody tr th {\n",
       "        vertical-align: top;\n",
       "    }\n",
       "\n",
       "    .dataframe thead th {\n",
       "        text-align: right;\n",
       "    }\n",
       "</style>\n",
       "<table border=\"1\" class=\"dataframe\">\n",
       "  <thead>\n",
       "    <tr style=\"text-align: right;\">\n",
       "      <th></th>\n",
       "      <th>id</th>\n",
       "      <th>full_name</th>\n",
       "      <th>age</th>\n",
       "      <th>gender</th>\n",
       "      <th>device_type</th>\n",
       "      <th>ad_position</th>\n",
       "      <th>browsing_history</th>\n",
       "      <th>time_of_day</th>\n",
       "      <th>click</th>\n",
       "    </tr>\n",
       "  </thead>\n",
       "  <tbody>\n",
       "    <tr>\n",
       "      <th>0</th>\n",
       "      <td>670</td>\n",
       "      <td>User670</td>\n",
       "      <td>22.0</td>\n",
       "      <td>-1</td>\n",
       "      <td>Desktop</td>\n",
       "      <td>0</td>\n",
       "      <td>Shopping</td>\n",
       "      <td>Afternoon</td>\n",
       "      <td>1</td>\n",
       "    </tr>\n",
       "    <tr>\n",
       "      <th>1</th>\n",
       "      <td>3044</td>\n",
       "      <td>User3044</td>\n",
       "      <td>NaN</td>\n",
       "      <td>0</td>\n",
       "      <td>Desktop</td>\n",
       "      <td>0</td>\n",
       "      <td>NaN</td>\n",
       "      <td>NaN</td>\n",
       "      <td>1</td>\n",
       "    </tr>\n",
       "    <tr>\n",
       "      <th>6</th>\n",
       "      <td>7808</td>\n",
       "      <td>User7808</td>\n",
       "      <td>26.0</td>\n",
       "      <td>1</td>\n",
       "      <td>Desktop</td>\n",
       "      <td>0</td>\n",
       "      <td>NaN</td>\n",
       "      <td>NaN</td>\n",
       "      <td>1</td>\n",
       "    </tr>\n",
       "    <tr>\n",
       "      <th>15</th>\n",
       "      <td>7529</td>\n",
       "      <td>User7529</td>\n",
       "      <td>NaN</td>\n",
       "      <td>-1</td>\n",
       "      <td>NaN</td>\n",
       "      <td>0</td>\n",
       "      <td>Entertainment</td>\n",
       "      <td>Afternoon</td>\n",
       "      <td>0</td>\n",
       "    </tr>\n",
       "    <tr>\n",
       "      <th>18</th>\n",
       "      <td>2124</td>\n",
       "      <td>User2124</td>\n",
       "      <td>NaN</td>\n",
       "      <td>0</td>\n",
       "      <td>Desktop</td>\n",
       "      <td>0</td>\n",
       "      <td>NaN</td>\n",
       "      <td>Evening</td>\n",
       "      <td>1</td>\n",
       "    </tr>\n",
       "  </tbody>\n",
       "</table>\n",
       "</div>"
      ],
      "text/plain": [
       "      id full_name   age gender device_type ad_position browsing_history  \\\n",
       "0    670   User670  22.0     -1     Desktop           0         Shopping   \n",
       "1   3044  User3044   NaN      0     Desktop           0              NaN   \n",
       "6   7808  User7808  26.0      1     Desktop           0              NaN   \n",
       "15  7529  User7529   NaN     -1         NaN           0    Entertainment   \n",
       "18  2124  User2124   NaN      0     Desktop           0              NaN   \n",
       "\n",
       "   time_of_day  click  \n",
       "0    Afternoon      1  \n",
       "1          NaN      1  \n",
       "6          NaN      1  \n",
       "15   Afternoon      0  \n",
       "18     Evening      1  "
      ]
     },
     "execution_count": 15,
     "metadata": {},
     "output_type": "execute_result"
    }
   ],
   "source": [
    "group_a.head()\n"
   ]
  },
  {
   "cell_type": "code",
   "execution_count": 16,
   "id": "3ffa195d",
   "metadata": {},
   "outputs": [
    {
     "data": {
      "application/vnd.microsoft.datawrangler.viewer.v0+json": {
       "columns": [
        {
         "name": "index",
         "rawType": "int64",
         "type": "integer"
        },
        {
         "name": "id",
         "rawType": "int64",
         "type": "integer"
        },
        {
         "name": "full_name",
         "rawType": "object",
         "type": "string"
        },
        {
         "name": "age",
         "rawType": "float64",
         "type": "float"
        },
        {
         "name": "gender",
         "rawType": "category",
         "type": "unknown"
        },
        {
         "name": "device_type",
         "rawType": "object",
         "type": "unknown"
        },
        {
         "name": "ad_position",
         "rawType": "category",
         "type": "unknown"
        },
        {
         "name": "browsing_history",
         "rawType": "object",
         "type": "unknown"
        },
        {
         "name": "time_of_day",
         "rawType": "object",
         "type": "unknown"
        },
        {
         "name": "click",
         "rawType": "int64",
         "type": "integer"
        }
       ],
       "conversionMethod": "pd.DataFrame",
       "ref": "5e851783-3505-4227-94eb-81735b86bda4",
       "rows": [
        [
         "5",
         "5942",
         "User5942",
         null,
         "2",
         null,
         "1",
         "Social Media",
         "Evening",
         "1"
        ],
        [
         "8",
         "7993",
         "User7993",
         null,
         "2",
         "Mobile",
         "1",
         "Social Media",
         null,
         "1"
        ],
        [
         "9",
         "4509",
         "User4509",
         null,
         "-1",
         null,
         "1",
         "Education",
         "Afternoon",
         "1"
        ],
        [
         "10",
         "2595",
         "User2595",
         null,
         "-1",
         null,
         "1",
         null,
         "Morning",
         "1"
        ],
        [
         "11",
         "7466",
         "User7466",
         "47.0",
         "-1",
         "Mobile",
         "1",
         null,
         "Afternoon",
         "1"
        ]
       ],
       "shape": {
        "columns": 9,
        "rows": 5
       }
      },
      "text/html": [
       "<div>\n",
       "<style scoped>\n",
       "    .dataframe tbody tr th:only-of-type {\n",
       "        vertical-align: middle;\n",
       "    }\n",
       "\n",
       "    .dataframe tbody tr th {\n",
       "        vertical-align: top;\n",
       "    }\n",
       "\n",
       "    .dataframe thead th {\n",
       "        text-align: right;\n",
       "    }\n",
       "</style>\n",
       "<table border=\"1\" class=\"dataframe\">\n",
       "  <thead>\n",
       "    <tr style=\"text-align: right;\">\n",
       "      <th></th>\n",
       "      <th>id</th>\n",
       "      <th>full_name</th>\n",
       "      <th>age</th>\n",
       "      <th>gender</th>\n",
       "      <th>device_type</th>\n",
       "      <th>ad_position</th>\n",
       "      <th>browsing_history</th>\n",
       "      <th>time_of_day</th>\n",
       "      <th>click</th>\n",
       "    </tr>\n",
       "  </thead>\n",
       "  <tbody>\n",
       "    <tr>\n",
       "      <th>5</th>\n",
       "      <td>5942</td>\n",
       "      <td>User5942</td>\n",
       "      <td>NaN</td>\n",
       "      <td>2</td>\n",
       "      <td>NaN</td>\n",
       "      <td>1</td>\n",
       "      <td>Social Media</td>\n",
       "      <td>Evening</td>\n",
       "      <td>1</td>\n",
       "    </tr>\n",
       "    <tr>\n",
       "      <th>8</th>\n",
       "      <td>7993</td>\n",
       "      <td>User7993</td>\n",
       "      <td>NaN</td>\n",
       "      <td>2</td>\n",
       "      <td>Mobile</td>\n",
       "      <td>1</td>\n",
       "      <td>Social Media</td>\n",
       "      <td>NaN</td>\n",
       "      <td>1</td>\n",
       "    </tr>\n",
       "    <tr>\n",
       "      <th>9</th>\n",
       "      <td>4509</td>\n",
       "      <td>User4509</td>\n",
       "      <td>NaN</td>\n",
       "      <td>-1</td>\n",
       "      <td>NaN</td>\n",
       "      <td>1</td>\n",
       "      <td>Education</td>\n",
       "      <td>Afternoon</td>\n",
       "      <td>1</td>\n",
       "    </tr>\n",
       "    <tr>\n",
       "      <th>10</th>\n",
       "      <td>2595</td>\n",
       "      <td>User2595</td>\n",
       "      <td>NaN</td>\n",
       "      <td>-1</td>\n",
       "      <td>NaN</td>\n",
       "      <td>1</td>\n",
       "      <td>NaN</td>\n",
       "      <td>Morning</td>\n",
       "      <td>1</td>\n",
       "    </tr>\n",
       "    <tr>\n",
       "      <th>11</th>\n",
       "      <td>7466</td>\n",
       "      <td>User7466</td>\n",
       "      <td>47.0</td>\n",
       "      <td>-1</td>\n",
       "      <td>Mobile</td>\n",
       "      <td>1</td>\n",
       "      <td>NaN</td>\n",
       "      <td>Afternoon</td>\n",
       "      <td>1</td>\n",
       "    </tr>\n",
       "  </tbody>\n",
       "</table>\n",
       "</div>"
      ],
      "text/plain": [
       "      id full_name   age gender device_type ad_position browsing_history  \\\n",
       "5   5942  User5942   NaN      2         NaN           1     Social Media   \n",
       "8   7993  User7993   NaN      2      Mobile           1     Social Media   \n",
       "9   4509  User4509   NaN     -1         NaN           1        Education   \n",
       "10  2595  User2595   NaN     -1         NaN           1              NaN   \n",
       "11  7466  User7466  47.0     -1      Mobile           1              NaN   \n",
       "\n",
       "   time_of_day  click  \n",
       "5      Evening      1  \n",
       "8          NaN      1  \n",
       "9    Afternoon      1  \n",
       "10     Morning      1  \n",
       "11   Afternoon      1  "
      ]
     },
     "execution_count": 16,
     "metadata": {},
     "output_type": "execute_result"
    }
   ],
   "source": [
    "group_b.head()"
   ]
  },
  {
   "cell_type": "code",
   "execution_count": 17,
   "metadata": {},
   "outputs": [],
   "source": [
    "# clicks and impressions\n",
    "clicks_A = group_a['click'].sum()\n",
    "clicks_B = group_b['click'].sum()\n",
    "n_A = len(group_a)\n",
    "n_B = len(group_b)"
   ]
  },
  {
   "cell_type": "code",
   "execution_count": 18,
   "id": "91aae76e",
   "metadata": {},
   "outputs": [
    {
     "name": "stdout",
     "output_type": "stream",
     "text": [
      "CTR (Top ads): 0.6350\n",
      "CTR (Bottom ads): 0.6873\n"
     ]
    }
   ],
   "source": [
    "# CTRs :Click through rate\n",
    "ctr_A = clicks_A / n_A\n",
    "ctr_B = clicks_B / n_B\n",
    "\n",
    "print(f\"CTR (Top ads): {ctr_A:.4f}\")\n",
    "print(f\"CTR (Bottom ads): {ctr_B:.4f}\")"
   ]
  },
  {
   "cell_type": "code",
   "execution_count": 19,
   "id": "6c8f28f5",
   "metadata": {},
   "outputs": [
    {
     "name": "stdout",
     "output_type": "stream",
     "text": [
      "Z_score: -4.0642\n",
      "P_value: 0.0000\n"
     ]
    }
   ],
   "source": [
    "# performing z-test\n",
    "z_score, p_value = proportions_ztest([clicks_A, clicks_B], [n_A, n_B])\n",
    "print(f\"Z_score: {z_score:.4f}\")\n",
    "print(f\"P_value: {p_value:.4f}\")"
   ]
  },
  {
   "cell_type": "code",
   "execution_count": 20,
   "id": "325f6b9f",
   "metadata": {},
   "outputs": [
    {
     "name": "stdout",
     "output_type": "stream",
     "text": [
      "Result: Statistically significant difference in CTR between top and bottom positions.\n"
     ]
    }
   ],
   "source": [
    "alpha = 0.05\n",
    "if p_value < alpha:\n",
    "    print(\"Result: Statistically significant difference in CTR between top and bottom positions.\")\n",
    "else:\n",
    "    print(\"Result: No statistically significant difference in CTR.\")"
   ]
  },
  {
   "cell_type": "markdown",
   "id": "7d3f2b2b",
   "metadata": {},
   "source": [
    "Part2 :  Covariate Shift Detection Using Air Quality Data"
   ]
  },
  {
   "cell_type": "code",
   "execution_count": 21,
   "id": "294f3b15",
   "metadata": {},
   "outputs": [],
   "source": [
    "# loading air quality datasets\n",
    "train = pd.read_csv(\"train.csv\")\n",
    "test1 = pd.read_csv(\"test1.csv\")\n",
    "test2 = pd.read_csv(\"test2.csv\")"
   ]
  },
  {
   "cell_type": "code",
   "execution_count": 22,
   "id": "af2e99ec",
   "metadata": {},
   "outputs": [
    {
     "data": {
      "application/vnd.microsoft.datawrangler.viewer.v0+json": {
       "columns": [
        {
         "name": "index",
         "rawType": "int64",
         "type": "integer"
        },
        {
         "name": "Unnamed: 0",
         "rawType": "int64",
         "type": "integer"
        },
        {
         "name": "Date",
         "rawType": "object",
         "type": "string"
        },
        {
         "name": "Time",
         "rawType": "object",
         "type": "string"
        },
        {
         "name": "CO(GT)",
         "rawType": "object",
         "type": "string"
        },
        {
         "name": "PT08.S1(CO)",
         "rawType": "float64",
         "type": "float"
        },
        {
         "name": "NMHC(GT)",
         "rawType": "float64",
         "type": "float"
        },
        {
         "name": "C6H6(GT)",
         "rawType": "object",
         "type": "string"
        },
        {
         "name": "PT08.S2(NMHC)",
         "rawType": "float64",
         "type": "float"
        },
        {
         "name": "NOx(GT)",
         "rawType": "float64",
         "type": "float"
        },
        {
         "name": "PT08.S3(NOx)",
         "rawType": "float64",
         "type": "float"
        },
        {
         "name": "NO2(GT)",
         "rawType": "float64",
         "type": "float"
        },
        {
         "name": "PT08.S4(NO2)",
         "rawType": "float64",
         "type": "float"
        },
        {
         "name": "PT08.S5(O3)",
         "rawType": "float64",
         "type": "float"
        },
        {
         "name": "T",
         "rawType": "object",
         "type": "string"
        },
        {
         "name": "RH",
         "rawType": "object",
         "type": "string"
        },
        {
         "name": "AH",
         "rawType": "object",
         "type": "string"
        },
        {
         "name": "Unnamed: 15",
         "rawType": "float64",
         "type": "float"
        },
        {
         "name": "Unnamed: 16",
         "rawType": "float64",
         "type": "float"
        }
       ],
       "conversionMethod": "pd.DataFrame",
       "ref": "66f83346-7730-417c-aa25-6b1b1ac862a2",
       "rows": [
        [
         "0",
         "1849",
         "26/05/2004",
         "19.00.00",
         "-200",
         "1130.0",
         "-200.0",
         "22,7",
         "1368.0",
         "-200.0",
         "933.0",
         "-200.0",
         "1709.0",
         "1269.0",
         "26,7",
         "19,5",
         "0,6754",
         null,
         null
        ],
        [
         "1",
         "2533",
         "24/06/2004",
         "07.00.00",
         "1,2",
         "1030.0",
         "-200.0",
         "6,9",
         "851.0",
         "102.0",
         "824.0",
         "68.0",
         "1700.0",
         "983.0",
         "21,9",
         "57,0",
         "1,4742",
         null,
         null
        ],
        [
         "2",
         "3047",
         "15/07/2004",
         "17.00.00",
         "3,2",
         "1164.0",
         "-200.0",
         "20,3",
         "1306.0",
         "259.0",
         "648.0",
         "198.0",
         "1886.0",
         "1218.0",
         "35,5",
         "19,1",
         "1,0888",
         null,
         null
        ],
        [
         "3",
         "805",
         "13/04/2004",
         "07.00.00",
         "3,9",
         "1496.0",
         "524.0",
         "19,1",
         "1272.0",
         "328.0",
         "667.0",
         "130.0",
         "2011.0",
         "1399.0",
         "11,0",
         "64,2",
         "0,8398",
         null,
         null
        ],
        [
         "4",
         "2962",
         "12/07/2004",
         "04.00.00",
         "-200",
         "780.0",
         "-200.0",
         "1,8",
         "568.0",
         "24.0",
         "1200.0",
         "34.0",
         "1331.0",
         "501.0",
         "19,9",
         "51,3",
         "1,1803",
         null,
         null
        ]
       ],
       "shape": {
        "columns": 18,
        "rows": 5
       }
      },
      "text/html": [
       "<div>\n",
       "<style scoped>\n",
       "    .dataframe tbody tr th:only-of-type {\n",
       "        vertical-align: middle;\n",
       "    }\n",
       "\n",
       "    .dataframe tbody tr th {\n",
       "        vertical-align: top;\n",
       "    }\n",
       "\n",
       "    .dataframe thead th {\n",
       "        text-align: right;\n",
       "    }\n",
       "</style>\n",
       "<table border=\"1\" class=\"dataframe\">\n",
       "  <thead>\n",
       "    <tr style=\"text-align: right;\">\n",
       "      <th></th>\n",
       "      <th>Unnamed: 0</th>\n",
       "      <th>Date</th>\n",
       "      <th>Time</th>\n",
       "      <th>CO(GT)</th>\n",
       "      <th>PT08.S1(CO)</th>\n",
       "      <th>NMHC(GT)</th>\n",
       "      <th>C6H6(GT)</th>\n",
       "      <th>PT08.S2(NMHC)</th>\n",
       "      <th>NOx(GT)</th>\n",
       "      <th>PT08.S3(NOx)</th>\n",
       "      <th>NO2(GT)</th>\n",
       "      <th>PT08.S4(NO2)</th>\n",
       "      <th>PT08.S5(O3)</th>\n",
       "      <th>T</th>\n",
       "      <th>RH</th>\n",
       "      <th>AH</th>\n",
       "      <th>Unnamed: 15</th>\n",
       "      <th>Unnamed: 16</th>\n",
       "    </tr>\n",
       "  </thead>\n",
       "  <tbody>\n",
       "    <tr>\n",
       "      <th>0</th>\n",
       "      <td>1849</td>\n",
       "      <td>26/05/2004</td>\n",
       "      <td>19.00.00</td>\n",
       "      <td>-200</td>\n",
       "      <td>1130.0</td>\n",
       "      <td>-200.0</td>\n",
       "      <td>22,7</td>\n",
       "      <td>1368.0</td>\n",
       "      <td>-200.0</td>\n",
       "      <td>933.0</td>\n",
       "      <td>-200.0</td>\n",
       "      <td>1709.0</td>\n",
       "      <td>1269.0</td>\n",
       "      <td>26,7</td>\n",
       "      <td>19,5</td>\n",
       "      <td>0,6754</td>\n",
       "      <td>NaN</td>\n",
       "      <td>NaN</td>\n",
       "    </tr>\n",
       "    <tr>\n",
       "      <th>1</th>\n",
       "      <td>2533</td>\n",
       "      <td>24/06/2004</td>\n",
       "      <td>07.00.00</td>\n",
       "      <td>1,2</td>\n",
       "      <td>1030.0</td>\n",
       "      <td>-200.0</td>\n",
       "      <td>6,9</td>\n",
       "      <td>851.0</td>\n",
       "      <td>102.0</td>\n",
       "      <td>824.0</td>\n",
       "      <td>68.0</td>\n",
       "      <td>1700.0</td>\n",
       "      <td>983.0</td>\n",
       "      <td>21,9</td>\n",
       "      <td>57,0</td>\n",
       "      <td>1,4742</td>\n",
       "      <td>NaN</td>\n",
       "      <td>NaN</td>\n",
       "    </tr>\n",
       "    <tr>\n",
       "      <th>2</th>\n",
       "      <td>3047</td>\n",
       "      <td>15/07/2004</td>\n",
       "      <td>17.00.00</td>\n",
       "      <td>3,2</td>\n",
       "      <td>1164.0</td>\n",
       "      <td>-200.0</td>\n",
       "      <td>20,3</td>\n",
       "      <td>1306.0</td>\n",
       "      <td>259.0</td>\n",
       "      <td>648.0</td>\n",
       "      <td>198.0</td>\n",
       "      <td>1886.0</td>\n",
       "      <td>1218.0</td>\n",
       "      <td>35,5</td>\n",
       "      <td>19,1</td>\n",
       "      <td>1,0888</td>\n",
       "      <td>NaN</td>\n",
       "      <td>NaN</td>\n",
       "    </tr>\n",
       "    <tr>\n",
       "      <th>3</th>\n",
       "      <td>805</td>\n",
       "      <td>13/04/2004</td>\n",
       "      <td>07.00.00</td>\n",
       "      <td>3,9</td>\n",
       "      <td>1496.0</td>\n",
       "      <td>524.0</td>\n",
       "      <td>19,1</td>\n",
       "      <td>1272.0</td>\n",
       "      <td>328.0</td>\n",
       "      <td>667.0</td>\n",
       "      <td>130.0</td>\n",
       "      <td>2011.0</td>\n",
       "      <td>1399.0</td>\n",
       "      <td>11,0</td>\n",
       "      <td>64,2</td>\n",
       "      <td>0,8398</td>\n",
       "      <td>NaN</td>\n",
       "      <td>NaN</td>\n",
       "    </tr>\n",
       "    <tr>\n",
       "      <th>4</th>\n",
       "      <td>2962</td>\n",
       "      <td>12/07/2004</td>\n",
       "      <td>04.00.00</td>\n",
       "      <td>-200</td>\n",
       "      <td>780.0</td>\n",
       "      <td>-200.0</td>\n",
       "      <td>1,8</td>\n",
       "      <td>568.0</td>\n",
       "      <td>24.0</td>\n",
       "      <td>1200.0</td>\n",
       "      <td>34.0</td>\n",
       "      <td>1331.0</td>\n",
       "      <td>501.0</td>\n",
       "      <td>19,9</td>\n",
       "      <td>51,3</td>\n",
       "      <td>1,1803</td>\n",
       "      <td>NaN</td>\n",
       "      <td>NaN</td>\n",
       "    </tr>\n",
       "  </tbody>\n",
       "</table>\n",
       "</div>"
      ],
      "text/plain": [
       "   Unnamed: 0        Date      Time CO(GT)  PT08.S1(CO)  NMHC(GT) C6H6(GT)  \\\n",
       "0        1849  26/05/2004  19.00.00   -200       1130.0    -200.0     22,7   \n",
       "1        2533  24/06/2004  07.00.00    1,2       1030.0    -200.0      6,9   \n",
       "2        3047  15/07/2004  17.00.00    3,2       1164.0    -200.0     20,3   \n",
       "3         805  13/04/2004  07.00.00    3,9       1496.0     524.0     19,1   \n",
       "4        2962  12/07/2004  04.00.00   -200        780.0    -200.0      1,8   \n",
       "\n",
       "   PT08.S2(NMHC)  NOx(GT)  PT08.S3(NOx)  NO2(GT)  PT08.S4(NO2)  PT08.S5(O3)  \\\n",
       "0         1368.0   -200.0         933.0   -200.0        1709.0       1269.0   \n",
       "1          851.0    102.0         824.0     68.0        1700.0        983.0   \n",
       "2         1306.0    259.0         648.0    198.0        1886.0       1218.0   \n",
       "3         1272.0    328.0         667.0    130.0        2011.0       1399.0   \n",
       "4          568.0     24.0        1200.0     34.0        1331.0        501.0   \n",
       "\n",
       "      T    RH      AH  Unnamed: 15  Unnamed: 16  \n",
       "0  26,7  19,5  0,6754          NaN          NaN  \n",
       "1  21,9  57,0  1,4742          NaN          NaN  \n",
       "2  35,5  19,1  1,0888          NaN          NaN  \n",
       "3  11,0  64,2  0,8398          NaN          NaN  \n",
       "4  19,9  51,3  1,1803          NaN          NaN  "
      ]
     },
     "execution_count": 22,
     "metadata": {},
     "output_type": "execute_result"
    }
   ],
   "source": [
    "train.head()"
   ]
  },
  {
   "cell_type": "code",
   "execution_count": 23,
   "id": "beb8559d",
   "metadata": {},
   "outputs": [
    {
     "data": {
      "application/vnd.microsoft.datawrangler.viewer.v0+json": {
       "columns": [
        {
         "name": "index",
         "rawType": "int64",
         "type": "integer"
        },
        {
         "name": "Unnamed: 0",
         "rawType": "int64",
         "type": "integer"
        },
        {
         "name": "Date",
         "rawType": "object",
         "type": "string"
        },
        {
         "name": "Time",
         "rawType": "object",
         "type": "string"
        },
        {
         "name": "CO(GT)",
         "rawType": "object",
         "type": "string"
        },
        {
         "name": "PT08.S1(CO)",
         "rawType": "float64",
         "type": "float"
        },
        {
         "name": "NMHC(GT)",
         "rawType": "float64",
         "type": "float"
        },
        {
         "name": "C6H6(GT)",
         "rawType": "object",
         "type": "string"
        },
        {
         "name": "PT08.S2(NMHC)",
         "rawType": "float64",
         "type": "float"
        },
        {
         "name": "NOx(GT)",
         "rawType": "float64",
         "type": "float"
        },
        {
         "name": "PT08.S3(NOx)",
         "rawType": "float64",
         "type": "float"
        },
        {
         "name": "NO2(GT)",
         "rawType": "float64",
         "type": "float"
        },
        {
         "name": "PT08.S4(NO2)",
         "rawType": "float64",
         "type": "float"
        },
        {
         "name": "PT08.S5(O3)",
         "rawType": "float64",
         "type": "float"
        },
        {
         "name": "T",
         "rawType": "object",
         "type": "string"
        },
        {
         "name": "RH",
         "rawType": "object",
         "type": "string"
        },
        {
         "name": "AH",
         "rawType": "object",
         "type": "string"
        },
        {
         "name": "Unnamed: 15",
         "rawType": "float64",
         "type": "float"
        },
        {
         "name": "Unnamed: 16",
         "rawType": "float64",
         "type": "float"
        }
       ],
       "conversionMethod": "pd.DataFrame",
       "ref": "e182e896-6355-4516-8ab5-5cddea2d52ab",
       "rows": [
        [
         "0",
         "3123",
         "18/07/2004",
         "21.00.00",
         "1,2",
         "1067.0",
         "-200.0",
         "9,0",
         "938.0",
         "102.0",
         "825.0",
         "99.0",
         "1520.0",
         "912.0",
         "29,7",
         "24,8",
         "1,0160",
         null,
         null
        ],
        [
         "1",
         "877",
         "16/04/2004",
         "07.00.00",
         "4,5",
         "1657.0",
         "523.0",
         "23,2",
         "1384.0",
         "352.0",
         "579.0",
         "109.0",
         "2176.0",
         "1600.0",
         "12,8",
         "71,0",
         "1,0428",
         null,
         null
        ],
        [
         "2",
         "3457",
         "01/08/2004",
         "19.00.00",
         "1,4",
         "1037.0",
         "-200.0",
         "8,0",
         "900.0",
         "75.0",
         "817.0",
         "95.0",
         "1584.0",
         "619.0",
         "33,1",
         "32,7",
         "1,6200",
         null,
         null
        ],
        [
         "3",
         "1494",
         "12/05/2004",
         "00.00.00",
         "1,7",
         "1122.0",
         "-200.0",
         "8,7",
         "926.0",
         "105.0",
         "805.0",
         "88.0",
         "1619.0",
         "1174.0",
         "16,9",
         "58,8",
         "1,1250",
         null,
         null
        ],
        [
         "4",
         "713",
         "09/04/2004",
         "11.00.00",
         "2,6",
         "-200.0",
         "262.0",
         "-200,0",
         "-200.0",
         "219.0",
         "-200.0",
         "121.0",
         "-200.0",
         "-200.0",
         "-200",
         "-200",
         "-200",
         null,
         null
        ]
       ],
       "shape": {
        "columns": 18,
        "rows": 5
       }
      },
      "text/html": [
       "<div>\n",
       "<style scoped>\n",
       "    .dataframe tbody tr th:only-of-type {\n",
       "        vertical-align: middle;\n",
       "    }\n",
       "\n",
       "    .dataframe tbody tr th {\n",
       "        vertical-align: top;\n",
       "    }\n",
       "\n",
       "    .dataframe thead th {\n",
       "        text-align: right;\n",
       "    }\n",
       "</style>\n",
       "<table border=\"1\" class=\"dataframe\">\n",
       "  <thead>\n",
       "    <tr style=\"text-align: right;\">\n",
       "      <th></th>\n",
       "      <th>Unnamed: 0</th>\n",
       "      <th>Date</th>\n",
       "      <th>Time</th>\n",
       "      <th>CO(GT)</th>\n",
       "      <th>PT08.S1(CO)</th>\n",
       "      <th>NMHC(GT)</th>\n",
       "      <th>C6H6(GT)</th>\n",
       "      <th>PT08.S2(NMHC)</th>\n",
       "      <th>NOx(GT)</th>\n",
       "      <th>PT08.S3(NOx)</th>\n",
       "      <th>NO2(GT)</th>\n",
       "      <th>PT08.S4(NO2)</th>\n",
       "      <th>PT08.S5(O3)</th>\n",
       "      <th>T</th>\n",
       "      <th>RH</th>\n",
       "      <th>AH</th>\n",
       "      <th>Unnamed: 15</th>\n",
       "      <th>Unnamed: 16</th>\n",
       "    </tr>\n",
       "  </thead>\n",
       "  <tbody>\n",
       "    <tr>\n",
       "      <th>0</th>\n",
       "      <td>3123</td>\n",
       "      <td>18/07/2004</td>\n",
       "      <td>21.00.00</td>\n",
       "      <td>1,2</td>\n",
       "      <td>1067.0</td>\n",
       "      <td>-200.0</td>\n",
       "      <td>9,0</td>\n",
       "      <td>938.0</td>\n",
       "      <td>102.0</td>\n",
       "      <td>825.0</td>\n",
       "      <td>99.0</td>\n",
       "      <td>1520.0</td>\n",
       "      <td>912.0</td>\n",
       "      <td>29,7</td>\n",
       "      <td>24,8</td>\n",
       "      <td>1,0160</td>\n",
       "      <td>NaN</td>\n",
       "      <td>NaN</td>\n",
       "    </tr>\n",
       "    <tr>\n",
       "      <th>1</th>\n",
       "      <td>877</td>\n",
       "      <td>16/04/2004</td>\n",
       "      <td>07.00.00</td>\n",
       "      <td>4,5</td>\n",
       "      <td>1657.0</td>\n",
       "      <td>523.0</td>\n",
       "      <td>23,2</td>\n",
       "      <td>1384.0</td>\n",
       "      <td>352.0</td>\n",
       "      <td>579.0</td>\n",
       "      <td>109.0</td>\n",
       "      <td>2176.0</td>\n",
       "      <td>1600.0</td>\n",
       "      <td>12,8</td>\n",
       "      <td>71,0</td>\n",
       "      <td>1,0428</td>\n",
       "      <td>NaN</td>\n",
       "      <td>NaN</td>\n",
       "    </tr>\n",
       "    <tr>\n",
       "      <th>2</th>\n",
       "      <td>3457</td>\n",
       "      <td>01/08/2004</td>\n",
       "      <td>19.00.00</td>\n",
       "      <td>1,4</td>\n",
       "      <td>1037.0</td>\n",
       "      <td>-200.0</td>\n",
       "      <td>8,0</td>\n",
       "      <td>900.0</td>\n",
       "      <td>75.0</td>\n",
       "      <td>817.0</td>\n",
       "      <td>95.0</td>\n",
       "      <td>1584.0</td>\n",
       "      <td>619.0</td>\n",
       "      <td>33,1</td>\n",
       "      <td>32,7</td>\n",
       "      <td>1,6200</td>\n",
       "      <td>NaN</td>\n",
       "      <td>NaN</td>\n",
       "    </tr>\n",
       "    <tr>\n",
       "      <th>3</th>\n",
       "      <td>1494</td>\n",
       "      <td>12/05/2004</td>\n",
       "      <td>00.00.00</td>\n",
       "      <td>1,7</td>\n",
       "      <td>1122.0</td>\n",
       "      <td>-200.0</td>\n",
       "      <td>8,7</td>\n",
       "      <td>926.0</td>\n",
       "      <td>105.0</td>\n",
       "      <td>805.0</td>\n",
       "      <td>88.0</td>\n",
       "      <td>1619.0</td>\n",
       "      <td>1174.0</td>\n",
       "      <td>16,9</td>\n",
       "      <td>58,8</td>\n",
       "      <td>1,1250</td>\n",
       "      <td>NaN</td>\n",
       "      <td>NaN</td>\n",
       "    </tr>\n",
       "    <tr>\n",
       "      <th>4</th>\n",
       "      <td>713</td>\n",
       "      <td>09/04/2004</td>\n",
       "      <td>11.00.00</td>\n",
       "      <td>2,6</td>\n",
       "      <td>-200.0</td>\n",
       "      <td>262.0</td>\n",
       "      <td>-200,0</td>\n",
       "      <td>-200.0</td>\n",
       "      <td>219.0</td>\n",
       "      <td>-200.0</td>\n",
       "      <td>121.0</td>\n",
       "      <td>-200.0</td>\n",
       "      <td>-200.0</td>\n",
       "      <td>-200</td>\n",
       "      <td>-200</td>\n",
       "      <td>-200</td>\n",
       "      <td>NaN</td>\n",
       "      <td>NaN</td>\n",
       "    </tr>\n",
       "  </tbody>\n",
       "</table>\n",
       "</div>"
      ],
      "text/plain": [
       "   Unnamed: 0        Date      Time CO(GT)  PT08.S1(CO)  NMHC(GT) C6H6(GT)  \\\n",
       "0        3123  18/07/2004  21.00.00    1,2       1067.0    -200.0      9,0   \n",
       "1         877  16/04/2004  07.00.00    4,5       1657.0     523.0     23,2   \n",
       "2        3457  01/08/2004  19.00.00    1,4       1037.0    -200.0      8,0   \n",
       "3        1494  12/05/2004  00.00.00    1,7       1122.0    -200.0      8,7   \n",
       "4         713  09/04/2004  11.00.00    2,6       -200.0     262.0   -200,0   \n",
       "\n",
       "   PT08.S2(NMHC)  NOx(GT)  PT08.S3(NOx)  NO2(GT)  PT08.S4(NO2)  PT08.S5(O3)  \\\n",
       "0          938.0    102.0         825.0     99.0        1520.0        912.0   \n",
       "1         1384.0    352.0         579.0    109.0        2176.0       1600.0   \n",
       "2          900.0     75.0         817.0     95.0        1584.0        619.0   \n",
       "3          926.0    105.0         805.0     88.0        1619.0       1174.0   \n",
       "4         -200.0    219.0        -200.0    121.0        -200.0       -200.0   \n",
       "\n",
       "      T    RH      AH  Unnamed: 15  Unnamed: 16  \n",
       "0  29,7  24,8  1,0160          NaN          NaN  \n",
       "1  12,8  71,0  1,0428          NaN          NaN  \n",
       "2  33,1  32,7  1,6200          NaN          NaN  \n",
       "3  16,9  58,8  1,1250          NaN          NaN  \n",
       "4  -200  -200    -200          NaN          NaN  "
      ]
     },
     "execution_count": 23,
     "metadata": {},
     "output_type": "execute_result"
    }
   ],
   "source": [
    "test1.head()"
   ]
  },
  {
   "cell_type": "code",
   "execution_count": 24,
   "id": "38e3f58d",
   "metadata": {},
   "outputs": [
    {
     "data": {
      "application/vnd.microsoft.datawrangler.viewer.v0+json": {
       "columns": [
        {
         "name": "index",
         "rawType": "int64",
         "type": "integer"
        },
        {
         "name": "Unnamed: 0",
         "rawType": "int64",
         "type": "integer"
        },
        {
         "name": "Date",
         "rawType": "object",
         "type": "string"
        },
        {
         "name": "Time",
         "rawType": "object",
         "type": "string"
        },
        {
         "name": "CO(GT)",
         "rawType": "object",
         "type": "string"
        },
        {
         "name": "PT08.S1(CO)",
         "rawType": "float64",
         "type": "float"
        },
        {
         "name": "NMHC(GT)",
         "rawType": "float64",
         "type": "float"
        },
        {
         "name": "C6H6(GT)",
         "rawType": "object",
         "type": "string"
        },
        {
         "name": "PT08.S2(NMHC)",
         "rawType": "float64",
         "type": "float"
        },
        {
         "name": "NOx(GT)",
         "rawType": "float64",
         "type": "float"
        },
        {
         "name": "PT08.S3(NOx)",
         "rawType": "float64",
         "type": "float"
        },
        {
         "name": "NO2(GT)",
         "rawType": "float64",
         "type": "float"
        },
        {
         "name": "PT08.S4(NO2)",
         "rawType": "float64",
         "type": "float"
        },
        {
         "name": "PT08.S5(O3)",
         "rawType": "float64",
         "type": "float"
        },
        {
         "name": "T",
         "rawType": "object",
         "type": "string"
        },
        {
         "name": "RH",
         "rawType": "object",
         "type": "string"
        },
        {
         "name": "AH",
         "rawType": "object",
         "type": "string"
        },
        {
         "name": "Unnamed: 15",
         "rawType": "float64",
         "type": "float"
        },
        {
         "name": "Unnamed: 16",
         "rawType": "float64",
         "type": "float"
        }
       ],
       "conversionMethod": "pd.DataFrame",
       "ref": "ff0d2aee-bdbd-45c2-be62-5c912276b471",
       "rows": [
        [
         "0",
         "8500",
         "27/02/2005",
         "22.00.00",
         "1,0",
         "875.0",
         "-200.0",
         "2,1",
         "594.0",
         "128.0",
         "1079.0",
         "105.0",
         "793.0",
         "451.0",
         "4,5",
         "48,0",
         "0,4085",
         null,
         null
        ],
        [
         "1",
         "8501",
         "27/02/2005",
         "23.00.00",
         "1,3",
         "943.0",
         "-200.0",
         "3,9",
         "703.0",
         "169.0",
         "950.0",
         "119.0",
         "870.0",
         "581.0",
         "4,3",
         "48,6",
         "0,4069",
         null,
         null
        ],
        [
         "2",
         "8502",
         "28/02/2005",
         "00.00.00",
         "1,6",
         "947.0",
         "-200.0",
         "3,8",
         "697.0",
         "215.0",
         "913.0",
         "150.0",
         "878.0",
         "698.0",
         "4,0",
         "50,0",
         "0,4115",
         null,
         null
        ],
        [
         "3",
         "8503",
         "28/02/2005",
         "01.00.00",
         "1,0",
         "865.0",
         "-200.0",
         "1,8",
         "566.0",
         "111.0",
         "1119.0",
         "94.0",
         "797.0",
         "423.0",
         "4,0",
         "52,9",
         "0,4338",
         null,
         null
        ],
        [
         "4",
         "8504",
         "28/02/2005",
         "02.00.00",
         "0,6",
         "823.0",
         "-200.0",
         "1,0",
         "503.0",
         "60.0",
         "1268.0",
         "56.0",
         "755.0",
         "332.0",
         "4,0",
         "51,0",
         "0,4200",
         null,
         null
        ]
       ],
       "shape": {
        "columns": 18,
        "rows": 5
       }
      },
      "text/html": [
       "<div>\n",
       "<style scoped>\n",
       "    .dataframe tbody tr th:only-of-type {\n",
       "        vertical-align: middle;\n",
       "    }\n",
       "\n",
       "    .dataframe tbody tr th {\n",
       "        vertical-align: top;\n",
       "    }\n",
       "\n",
       "    .dataframe thead th {\n",
       "        text-align: right;\n",
       "    }\n",
       "</style>\n",
       "<table border=\"1\" class=\"dataframe\">\n",
       "  <thead>\n",
       "    <tr style=\"text-align: right;\">\n",
       "      <th></th>\n",
       "      <th>Unnamed: 0</th>\n",
       "      <th>Date</th>\n",
       "      <th>Time</th>\n",
       "      <th>CO(GT)</th>\n",
       "      <th>PT08.S1(CO)</th>\n",
       "      <th>NMHC(GT)</th>\n",
       "      <th>C6H6(GT)</th>\n",
       "      <th>PT08.S2(NMHC)</th>\n",
       "      <th>NOx(GT)</th>\n",
       "      <th>PT08.S3(NOx)</th>\n",
       "      <th>NO2(GT)</th>\n",
       "      <th>PT08.S4(NO2)</th>\n",
       "      <th>PT08.S5(O3)</th>\n",
       "      <th>T</th>\n",
       "      <th>RH</th>\n",
       "      <th>AH</th>\n",
       "      <th>Unnamed: 15</th>\n",
       "      <th>Unnamed: 16</th>\n",
       "    </tr>\n",
       "  </thead>\n",
       "  <tbody>\n",
       "    <tr>\n",
       "      <th>0</th>\n",
       "      <td>8500</td>\n",
       "      <td>27/02/2005</td>\n",
       "      <td>22.00.00</td>\n",
       "      <td>1,0</td>\n",
       "      <td>875.0</td>\n",
       "      <td>-200.0</td>\n",
       "      <td>2,1</td>\n",
       "      <td>594.0</td>\n",
       "      <td>128.0</td>\n",
       "      <td>1079.0</td>\n",
       "      <td>105.0</td>\n",
       "      <td>793.0</td>\n",
       "      <td>451.0</td>\n",
       "      <td>4,5</td>\n",
       "      <td>48,0</td>\n",
       "      <td>0,4085</td>\n",
       "      <td>NaN</td>\n",
       "      <td>NaN</td>\n",
       "    </tr>\n",
       "    <tr>\n",
       "      <th>1</th>\n",
       "      <td>8501</td>\n",
       "      <td>27/02/2005</td>\n",
       "      <td>23.00.00</td>\n",
       "      <td>1,3</td>\n",
       "      <td>943.0</td>\n",
       "      <td>-200.0</td>\n",
       "      <td>3,9</td>\n",
       "      <td>703.0</td>\n",
       "      <td>169.0</td>\n",
       "      <td>950.0</td>\n",
       "      <td>119.0</td>\n",
       "      <td>870.0</td>\n",
       "      <td>581.0</td>\n",
       "      <td>4,3</td>\n",
       "      <td>48,6</td>\n",
       "      <td>0,4069</td>\n",
       "      <td>NaN</td>\n",
       "      <td>NaN</td>\n",
       "    </tr>\n",
       "    <tr>\n",
       "      <th>2</th>\n",
       "      <td>8502</td>\n",
       "      <td>28/02/2005</td>\n",
       "      <td>00.00.00</td>\n",
       "      <td>1,6</td>\n",
       "      <td>947.0</td>\n",
       "      <td>-200.0</td>\n",
       "      <td>3,8</td>\n",
       "      <td>697.0</td>\n",
       "      <td>215.0</td>\n",
       "      <td>913.0</td>\n",
       "      <td>150.0</td>\n",
       "      <td>878.0</td>\n",
       "      <td>698.0</td>\n",
       "      <td>4,0</td>\n",
       "      <td>50,0</td>\n",
       "      <td>0,4115</td>\n",
       "      <td>NaN</td>\n",
       "      <td>NaN</td>\n",
       "    </tr>\n",
       "    <tr>\n",
       "      <th>3</th>\n",
       "      <td>8503</td>\n",
       "      <td>28/02/2005</td>\n",
       "      <td>01.00.00</td>\n",
       "      <td>1,0</td>\n",
       "      <td>865.0</td>\n",
       "      <td>-200.0</td>\n",
       "      <td>1,8</td>\n",
       "      <td>566.0</td>\n",
       "      <td>111.0</td>\n",
       "      <td>1119.0</td>\n",
       "      <td>94.0</td>\n",
       "      <td>797.0</td>\n",
       "      <td>423.0</td>\n",
       "      <td>4,0</td>\n",
       "      <td>52,9</td>\n",
       "      <td>0,4338</td>\n",
       "      <td>NaN</td>\n",
       "      <td>NaN</td>\n",
       "    </tr>\n",
       "    <tr>\n",
       "      <th>4</th>\n",
       "      <td>8504</td>\n",
       "      <td>28/02/2005</td>\n",
       "      <td>02.00.00</td>\n",
       "      <td>0,6</td>\n",
       "      <td>823.0</td>\n",
       "      <td>-200.0</td>\n",
       "      <td>1,0</td>\n",
       "      <td>503.0</td>\n",
       "      <td>60.0</td>\n",
       "      <td>1268.0</td>\n",
       "      <td>56.0</td>\n",
       "      <td>755.0</td>\n",
       "      <td>332.0</td>\n",
       "      <td>4,0</td>\n",
       "      <td>51,0</td>\n",
       "      <td>0,4200</td>\n",
       "      <td>NaN</td>\n",
       "      <td>NaN</td>\n",
       "    </tr>\n",
       "  </tbody>\n",
       "</table>\n",
       "</div>"
      ],
      "text/plain": [
       "   Unnamed: 0        Date      Time CO(GT)  PT08.S1(CO)  NMHC(GT) C6H6(GT)  \\\n",
       "0        8500  27/02/2005  22.00.00    1,0        875.0    -200.0      2,1   \n",
       "1        8501  27/02/2005  23.00.00    1,3        943.0    -200.0      3,9   \n",
       "2        8502  28/02/2005  00.00.00    1,6        947.0    -200.0      3,8   \n",
       "3        8503  28/02/2005  01.00.00    1,0        865.0    -200.0      1,8   \n",
       "4        8504  28/02/2005  02.00.00    0,6        823.0    -200.0      1,0   \n",
       "\n",
       "   PT08.S2(NMHC)  NOx(GT)  PT08.S3(NOx)  NO2(GT)  PT08.S4(NO2)  PT08.S5(O3)  \\\n",
       "0          594.0    128.0        1079.0    105.0         793.0        451.0   \n",
       "1          703.0    169.0         950.0    119.0         870.0        581.0   \n",
       "2          697.0    215.0         913.0    150.0         878.0        698.0   \n",
       "3          566.0    111.0        1119.0     94.0         797.0        423.0   \n",
       "4          503.0     60.0        1268.0     56.0         755.0        332.0   \n",
       "\n",
       "     T    RH      AH  Unnamed: 15  Unnamed: 16  \n",
       "0  4,5  48,0  0,4085          NaN          NaN  \n",
       "1  4,3  48,6  0,4069          NaN          NaN  \n",
       "2  4,0  50,0  0,4115          NaN          NaN  \n",
       "3  4,0  52,9  0,4338          NaN          NaN  \n",
       "4  4,0  51,0  0,4200          NaN          NaN  "
      ]
     },
     "execution_count": 24,
     "metadata": {},
     "output_type": "execute_result"
    }
   ],
   "source": [
    "test2.head()"
   ]
  },
  {
   "cell_type": "code",
   "execution_count": 25,
   "id": "19bc0669",
   "metadata": {},
   "outputs": [],
   "source": [
    "train_no2 = train['NO2(GT)'].dropna()\n",
    "test1_no2 = test1['NO2(GT)'].dropna()\n",
    "test2_no2 = test2['NO2(GT)'].dropna()"
   ]
  },
  {
   "cell_type": "code",
   "execution_count": 26,
   "metadata": {},
   "outputs": [
    {
     "name": "stdout",
     "output_type": "stream",
     "text": [
      "\n",
      "Train NO2(GT): count    3200.000000\n",
      "mean       45.605625\n",
      "std       114.663990\n",
      "min      -200.000000\n",
      "25%        47.750000\n",
      "50%        84.000000\n",
      "75%       114.000000\n",
      "max       233.000000\n",
      "Name: NO2(GT), dtype: float64\n",
      "Test1 NO2(GT): count    800.000000\n",
      "mean      42.621250\n",
      "std      117.115831\n",
      "min     -200.000000\n",
      "25%       46.750000\n",
      "50%       84.000000\n",
      "75%      114.000000\n",
      "max      223.000000\n",
      "Name: NO2(GT), dtype: float64\n",
      "Test2 NO2(GT): count    800.000000\n",
      "mean     129.682500\n",
      "std       61.071957\n",
      "min     -200.000000\n",
      "25%      100.000000\n",
      "50%      133.000000\n",
      "75%      163.250000\n",
      "max      248.000000\n",
      "Name: NO2(GT), dtype: float64\n"
     ]
    }
   ],
   "source": [
    "# just preview\n",
    "print(\"\\nTrain NO2(GT):\", train_no2.describe())\n",
    "print(\"Test1 NO2(GT):\", test1_no2.describe())\n",
    "print(\"Test2 NO2(GT):\", test2_no2.describe())"
   ]
  },
  {
   "cell_type": "code",
   "execution_count": 27,
   "id": "472f2989",
   "metadata": {},
   "outputs": [
    {
     "name": "stdout",
     "output_type": "stream",
     "text": [
      "Test1 vs. Train: KS Stat = 0.0191, P-Value = 0.9722\n",
      "Test2 vs. Train: KS Stat = 0.4075, P-Value = 0.0000\n"
     ]
    }
   ],
   "source": [
    "# comparing train vs test1\n",
    "ks_stat1, p_val1 = ks_2samp(train_no2, test1_no2)\n",
    "print(f\"Test1 vs. Train: KS Stat = {ks_stat1:.4f}, P-Value = {p_val1:.4f}\")\n",
    "\n",
    "\n",
    "# comparing train vs test2\n",
    "ks_stat2, p_val2 = ks_2samp(train_no2, test2_no2)\n",
    "print(f\"Test2 vs. Train: KS Stat = {ks_stat2:.4f}, P-Value = {p_val2:.4f}\")\n",
    "\n"
   ]
  },
  {
   "cell_type": "code",
   "execution_count": 28,
   "id": "03a5fe67",
   "metadata": {},
   "outputs": [
    {
     "name": "stdout",
     "output_type": "stream",
     "text": [
      "Covariate Shift in Test1: False\n",
      "Covariate Shift in Test2: True\n"
     ]
    }
   ],
   "source": [
    "alpha = 0.05\n",
    "shift_test1 = p_val1 < alpha  # True if shift detected\n",
    "shift_test2 = p_val2 < alpha\n",
    "\n",
    "print(f\"Covariate Shift in Test1: {shift_test1}\")\n",
    "print(f\"Covariate Shift in Test2: {shift_test2}\")"
   ]
  },
  {
   "cell_type": "code",
   "execution_count": 29,
   "id": "7c4155ab",
   "metadata": {},
   "outputs": [
    {
     "name": "stdout",
     "output_type": "stream",
     "text": [
      "Test2 shows a larger covariate shift from training data.\n"
     ]
    }
   ],
   "source": [
    "# Covariance shift\n",
    "\n",
    "if ks_stat1 > ks_stat2:\n",
    "    print(\"Test1 shows a larger covariate shift from training data.\")\n",
    "else:\n",
    "    print(\"Test2 shows a larger covariate shift from training data.\")\n"
   ]
  }
 ],
 "metadata": {
  "kernelspec": {
   "display_name": "base",
   "language": "python",
   "name": "python3"
  },
  "language_info": {
   "codemirror_mode": {
    "name": "ipython",
    "version": 3
   },
   "file_extension": ".py",
   "mimetype": "text/x-python",
   "name": "python",
   "nbconvert_exporter": "python",
   "pygments_lexer": "ipython3",
   "version": "3.12.7"
  }
 },
 "nbformat": 4,
 "nbformat_minor": 5
}
