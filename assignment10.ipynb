{
 "cells": [
  {
   "cell_type": "code",
   "execution_count": 2,
   "id": "af2c73bc",
   "metadata": {},
   "outputs": [],
   "source": [
    "#importing necessary libararies\n",
    "\n",
    "import numpy as np\n",
    "from scipy.stats import ks_2samp\n",
    "from statsmodels.stats.proportion import proportions_ztest\n",
    "import matplotlib.pyplot as plt\n",
    "import seaborn as sns\n",
    "import pandas as pd\n"
   ]
  },
  {
   "cell_type": "markdown",
   "id": "b3145884",
   "metadata": {},
   "source": [
    "Part 1"
   ]
  },
  {
   "cell_type": "code",
   "execution_count": 5,
   "metadata": {},
   "outputs": [
    {
     "name": "stdout",
     "output_type": "stream",
     "text": [
      "     id full_name   age      gender device_type ad_position browsing_history  \\\n",
      "0   670   User670  22.0         NaN     Desktop         Top         Shopping   \n",
      "1  3044  User3044   NaN        Male     Desktop         Top              NaN   \n",
      "2  5912  User5912  41.0  Non-Binary         NaN        Side        Education   \n",
      "3  5418  User5418  34.0        Male         NaN         NaN    Entertainment   \n",
      "4  9452  User9452  39.0  Non-Binary         NaN         NaN     Social Media   \n",
      "\n",
      "  time_of_day  click  \n",
      "0   Afternoon      1  \n",
      "1         NaN      1  \n",
      "2       Night      1  \n",
      "3     Evening      1  \n",
      "4     Morning      0  \n"
     ]
    }
   ],
   "source": [
    "\n",
    "# printing first few rows of dataset\n",
    "df = pd.read_csv(\"ad_click_dataset.csv\")\n",
    "print(df.head())"
   ]
  },
  {
   "cell_type": "code",
   "execution_count": 6,
   "id": "c8fef0bc",
   "metadata": {},
   "outputs": [
    {
     "name": "stdout",
     "output_type": "stream",
     "text": [
      "<class 'pandas.core.frame.DataFrame'>\n",
      "RangeIndex: 10000 entries, 0 to 9999\n",
      "Data columns (total 9 columns):\n",
      " #   Column            Non-Null Count  Dtype  \n",
      "---  ------            --------------  -----  \n",
      " 0   id                10000 non-null  int64  \n",
      " 1   full_name         10000 non-null  object \n",
      " 2   age               5234 non-null   float64\n",
      " 3   gender            5307 non-null   object \n",
      " 4   device_type       8000 non-null   object \n",
      " 5   ad_position       8000 non-null   object \n",
      " 6   browsing_history  5218 non-null   object \n",
      " 7   time_of_day       8000 non-null   object \n",
      " 8   click             10000 non-null  int64  \n",
      "dtypes: float64(1), int64(2), object(6)\n",
      "memory usage: 703.3+ KB\n",
      "None\n"
     ]
    }
   ],
   "source": [
    "print(df.info())   #getting information of the data"
   ]
  },
  {
   "cell_type": "code",
   "execution_count": 7,
   "metadata": {},
   "outputs": [
    {
     "name": "stdout",
     "output_type": "stream",
     "text": [
      "\n",
      "Missing values:\n",
      " id                     0\n",
      "full_name              0\n",
      "age                 4766\n",
      "gender              4693\n",
      "device_type         2000\n",
      "ad_position         2000\n",
      "browsing_history    4782\n",
      "time_of_day         2000\n",
      "click                  0\n",
      "dtype: int64\n"
     ]
    }
   ],
   "source": [
    "\n",
    "# doing data cleaning\n",
    "print(\"\\nMissing values:\\n\", df.isnull().sum())\n",
    "df = df.dropna()  # Drop missing rows\n",
    "\n",
    "# converting into categorical columns\n",
    "df['gender'] = df['gender'].map({'Male': 0, 'Female': 1})\n",
    "df['ad_position'] = df['ad_position'].map({'Top': 0, 'Bottom': 1})\n",
    "\n",
    " \n"
   ]
  },
  {
   "cell_type": "code",
   "execution_count": 8,
   "id": "f6ccff7d",
   "metadata": {},
   "outputs": [
    {
     "data": {
      "application/vnd.microsoft.datawrangler.viewer.v0+json": {
       "columns": [
        {
         "name": "index",
         "rawType": "int64",
         "type": "integer"
        },
        {
         "name": "id",
         "rawType": "int64",
         "type": "integer"
        },
        {
         "name": "full_name",
         "rawType": "object",
         "type": "string"
        },
        {
         "name": "age",
         "rawType": "float64",
         "type": "float"
        },
        {
         "name": "gender",
         "rawType": "float64",
         "type": "float"
        },
        {
         "name": "device_type",
         "rawType": "object",
         "type": "string"
        },
        {
         "name": "ad_position",
         "rawType": "float64",
         "type": "float"
        },
        {
         "name": "browsing_history",
         "rawType": "object",
         "type": "string"
        },
        {
         "name": "time_of_day",
         "rawType": "object",
         "type": "string"
        },
        {
         "name": "click",
         "rawType": "int64",
         "type": "integer"
        }
       ],
       "conversionMethod": "pd.DataFrame",
       "ref": "5688a755-4ddf-4f02-8062-4a7004f8ee39",
       "rows": [
        [
         "17",
         "188",
         "User188",
         "56.0",
         "1.0",
         "Tablet",
         "1.0",
         "News",
         "Morning",
         "1"
        ],
        [
         "25",
         "4890",
         "User4890",
         "43.0",
         "0.0",
         "Tablet",
         "1.0",
         "Education",
         "Afternoon",
         "1"
        ],
        [
         "33",
         "4985",
         "User4985",
         "37.0",
         "0.0",
         "Mobile",
         "0.0",
         "News",
         "Evening",
         "0"
        ],
        [
         "52",
         "9888",
         "User9888",
         "49.0",
         "0.0",
         "Mobile",
         "0.0",
         "News",
         "Morning",
         "1"
        ],
        [
         "102",
         "8201",
         "User8201",
         "59.0",
         "1.0",
         "Desktop",
         "1.0",
         "Social Media",
         "Morning",
         "0"
        ],
        [
         "122",
         "5484",
         "User5484",
         "64.0",
         "1.0",
         "Mobile",
         null,
         "Education",
         "Morning",
         "0"
        ],
        [
         "135",
         "5703",
         "User5703",
         "55.0",
         "1.0",
         "Tablet",
         null,
         "Shopping",
         "Night",
         "0"
        ],
        [
         "140",
         "820",
         "User820",
         "39.0",
         null,
         "Mobile",
         null,
         "Social Media",
         "Afternoon",
         "0"
        ],
        [
         "146",
         "4630",
         "User4630",
         "19.0",
         null,
         "Tablet",
         null,
         "Shopping",
         "Evening",
         "0"
        ],
        [
         "154",
         "118",
         "User118",
         "43.0",
         "1.0",
         "Tablet",
         "1.0",
         "Social Media",
         "Night",
         "0"
        ],
        [
         "158",
         "3007",
         "User3007",
         "42.0",
         "0.0",
         "Desktop",
         "0.0",
         "Shopping",
         "Night",
         "0"
        ],
        [
         "170",
         "3062",
         "User3062",
         "34.0",
         "0.0",
         "Desktop",
         "1.0",
         "Entertainment",
         "Evening",
         "1"
        ],
        [
         "185",
         "2757",
         "User2757",
         "35.0",
         "1.0",
         "Mobile",
         "1.0",
         "Social Media",
         "Night",
         "0"
        ],
        [
         "204",
         "8530",
         "User8530",
         "52.0",
         "1.0",
         "Mobile",
         "0.0",
         "Social Media",
         "Afternoon",
         "1"
        ],
        [
         "210",
         "9748",
         "User9748",
         "47.0",
         null,
         "Tablet",
         "1.0",
         "Entertainment",
         "Afternoon",
         "0"
        ],
        [
         "231",
         "4625",
         "User4625",
         "33.0",
         null,
         "Mobile",
         "0.0",
         "News",
         "Morning",
         "0"
        ],
        [
         "232",
         "8459",
         "User8459",
         "38.0",
         null,
         "Tablet",
         "1.0",
         "Entertainment",
         "Morning",
         "1"
        ],
        [
         "244",
         "6167",
         "User6167",
         "20.0",
         "0.0",
         "Mobile",
         null,
         "Shopping",
         "Night",
         "1"
        ],
        [
         "246",
         "6919",
         "User6919",
         "45.0",
         null,
         "Desktop",
         "0.0",
         "Social Media",
         "Night",
         "0"
        ],
        [
         "275",
         "7678",
         "User7678",
         "53.0",
         "1.0",
         "Desktop",
         "0.0",
         "Social Media",
         "Night",
         "0"
        ],
        [
         "284",
         "8115",
         "User8115",
         "20.0",
         "1.0",
         "Mobile",
         "0.0",
         "Social Media",
         "Afternoon",
         "1"
        ],
        [
         "289",
         "1214",
         "User1214",
         "26.0",
         "1.0",
         "Mobile",
         "1.0",
         "News",
         "Evening",
         "1"
        ],
        [
         "292",
         "3236",
         "User3236",
         "56.0",
         "1.0",
         "Mobile",
         "1.0",
         "Education",
         "Morning",
         "1"
        ],
        [
         "295",
         "6576",
         "User6576",
         "62.0",
         "1.0",
         "Desktop",
         "1.0",
         "Entertainment",
         "Morning",
         "1"
        ],
        [
         "298",
         "5501",
         "User5501",
         "28.0",
         null,
         "Mobile",
         "1.0",
         "Social Media",
         "Evening",
         "1"
        ],
        [
         "317",
         "5258",
         "User5258",
         "50.0",
         null,
         "Desktop",
         null,
         "Education",
         "Night",
         "0"
        ],
        [
         "324",
         "5890",
         "User5890",
         "56.0",
         "1.0",
         "Mobile",
         "1.0",
         "News",
         "Night",
         "1"
        ],
        [
         "361",
         "1099",
         "User1099",
         "36.0",
         "0.0",
         "Tablet",
         "0.0",
         "Shopping",
         "Night",
         "0"
        ],
        [
         "364",
         "2964",
         "User2964",
         "40.0",
         null,
         "Mobile",
         null,
         "Entertainment",
         "Night",
         "1"
        ],
        [
         "365",
         "9807",
         "User9807",
         "35.0",
         null,
         "Tablet",
         "1.0",
         "Education",
         "Night",
         "1"
        ],
        [
         "367",
         "6883",
         "User6883",
         "32.0",
         "0.0",
         "Desktop",
         null,
         "News",
         "Afternoon",
         "0"
        ],
        [
         "368",
         "1470",
         "User1470",
         "25.0",
         "0.0",
         "Tablet",
         "0.0",
         "Social Media",
         "Evening",
         "0"
        ],
        [
         "397",
         "5403",
         "User5403",
         "61.0",
         "0.0",
         "Desktop",
         "0.0",
         "Education",
         "Night",
         "0"
        ],
        [
         "420",
         "7438",
         "User7438",
         "53.0",
         null,
         "Mobile",
         null,
         "News",
         "Morning",
         "1"
        ],
        [
         "423",
         "5756",
         "User5756",
         "51.0",
         null,
         "Tablet",
         "0.0",
         "Shopping",
         "Afternoon",
         "1"
        ],
        [
         "428",
         "5338",
         "User5338",
         "51.0",
         "0.0",
         "Mobile",
         "0.0",
         "Social Media",
         "Morning",
         "1"
        ],
        [
         "436",
         "346",
         "User346",
         "29.0",
         "0.0",
         "Mobile",
         "0.0",
         "News",
         "Evening",
         "0"
        ],
        [
         "437",
         "5756",
         "User5756",
         "51.0",
         null,
         "Tablet",
         "0.0",
         "Shopping",
         "Afternoon",
         "1"
        ],
        [
         "460",
         "5766",
         "User5766",
         "63.0",
         "0.0",
         "Desktop",
         null,
         "Social Media",
         "Evening",
         "1"
        ],
        [
         "468",
         "7438",
         "User7438",
         "53.0",
         null,
         "Mobile",
         null,
         "News",
         "Morning",
         "1"
        ],
        [
         "474",
         "6811",
         "User6811",
         "24.0",
         "0.0",
         "Mobile",
         "1.0",
         "Education",
         "Evening",
         "1"
        ],
        [
         "489",
         "7748",
         "User7748",
         "57.0",
         "1.0",
         "Desktop",
         "0.0",
         "News",
         "Night",
         "0"
        ],
        [
         "490",
         "5922",
         "User5922",
         "62.0",
         "1.0",
         "Mobile",
         null,
         "Entertainment",
         "Afternoon",
         "0"
        ],
        [
         "506",
         "9695",
         "User9695",
         "26.0",
         "0.0",
         "Desktop",
         null,
         "Entertainment",
         "Night",
         "0"
        ],
        [
         "527",
         "3430",
         "User3430",
         "61.0",
         "0.0",
         "Desktop",
         null,
         "Social Media",
         "Morning",
         "1"
        ],
        [
         "541",
         "911",
         "User911",
         "32.0",
         null,
         "Desktop",
         "0.0",
         "Entertainment",
         "Night",
         "1"
        ],
        [
         "559",
         "4559",
         "User4559",
         "30.0",
         "1.0",
         "Desktop",
         "1.0",
         "News",
         "Night",
         "0"
        ],
        [
         "571",
         "8459",
         "User8459",
         "38.0",
         null,
         "Tablet",
         "1.0",
         "Entertainment",
         "Morning",
         "1"
        ],
        [
         "575",
         "8726",
         "User8726",
         "62.0",
         "1.0",
         "Desktop",
         null,
         "Education",
         "Morning",
         "1"
        ],
        [
         "626",
         "1914",
         "User1914",
         "42.0",
         "0.0",
         "Tablet",
         "1.0",
         "Shopping",
         "Night",
         "1"
        ]
       ],
       "shape": {
        "columns": 9,
        "rows": 816
       }
      },
      "text/html": [
       "<div>\n",
       "<style scoped>\n",
       "    .dataframe tbody tr th:only-of-type {\n",
       "        vertical-align: middle;\n",
       "    }\n",
       "\n",
       "    .dataframe tbody tr th {\n",
       "        vertical-align: top;\n",
       "    }\n",
       "\n",
       "    .dataframe thead th {\n",
       "        text-align: right;\n",
       "    }\n",
       "</style>\n",
       "<table border=\"1\" class=\"dataframe\">\n",
       "  <thead>\n",
       "    <tr style=\"text-align: right;\">\n",
       "      <th></th>\n",
       "      <th>id</th>\n",
       "      <th>full_name</th>\n",
       "      <th>age</th>\n",
       "      <th>gender</th>\n",
       "      <th>device_type</th>\n",
       "      <th>ad_position</th>\n",
       "      <th>browsing_history</th>\n",
       "      <th>time_of_day</th>\n",
       "      <th>click</th>\n",
       "    </tr>\n",
       "  </thead>\n",
       "  <tbody>\n",
       "    <tr>\n",
       "      <th>17</th>\n",
       "      <td>188</td>\n",
       "      <td>User188</td>\n",
       "      <td>56.0</td>\n",
       "      <td>1.0</td>\n",
       "      <td>Tablet</td>\n",
       "      <td>1.0</td>\n",
       "      <td>News</td>\n",
       "      <td>Morning</td>\n",
       "      <td>1</td>\n",
       "    </tr>\n",
       "    <tr>\n",
       "      <th>25</th>\n",
       "      <td>4890</td>\n",
       "      <td>User4890</td>\n",
       "      <td>43.0</td>\n",
       "      <td>0.0</td>\n",
       "      <td>Tablet</td>\n",
       "      <td>1.0</td>\n",
       "      <td>Education</td>\n",
       "      <td>Afternoon</td>\n",
       "      <td>1</td>\n",
       "    </tr>\n",
       "    <tr>\n",
       "      <th>33</th>\n",
       "      <td>4985</td>\n",
       "      <td>User4985</td>\n",
       "      <td>37.0</td>\n",
       "      <td>0.0</td>\n",
       "      <td>Mobile</td>\n",
       "      <td>0.0</td>\n",
       "      <td>News</td>\n",
       "      <td>Evening</td>\n",
       "      <td>0</td>\n",
       "    </tr>\n",
       "    <tr>\n",
       "      <th>52</th>\n",
       "      <td>9888</td>\n",
       "      <td>User9888</td>\n",
       "      <td>49.0</td>\n",
       "      <td>0.0</td>\n",
       "      <td>Mobile</td>\n",
       "      <td>0.0</td>\n",
       "      <td>News</td>\n",
       "      <td>Morning</td>\n",
       "      <td>1</td>\n",
       "    </tr>\n",
       "    <tr>\n",
       "      <th>102</th>\n",
       "      <td>8201</td>\n",
       "      <td>User8201</td>\n",
       "      <td>59.0</td>\n",
       "      <td>1.0</td>\n",
       "      <td>Desktop</td>\n",
       "      <td>1.0</td>\n",
       "      <td>Social Media</td>\n",
       "      <td>Morning</td>\n",
       "      <td>0</td>\n",
       "    </tr>\n",
       "    <tr>\n",
       "      <th>...</th>\n",
       "      <td>...</td>\n",
       "      <td>...</td>\n",
       "      <td>...</td>\n",
       "      <td>...</td>\n",
       "      <td>...</td>\n",
       "      <td>...</td>\n",
       "      <td>...</td>\n",
       "      <td>...</td>\n",
       "      <td>...</td>\n",
       "    </tr>\n",
       "    <tr>\n",
       "      <th>9951</th>\n",
       "      <td>7268</td>\n",
       "      <td>User7268</td>\n",
       "      <td>28.0</td>\n",
       "      <td>1.0</td>\n",
       "      <td>Desktop</td>\n",
       "      <td>1.0</td>\n",
       "      <td>News</td>\n",
       "      <td>Evening</td>\n",
       "      <td>1</td>\n",
       "    </tr>\n",
       "    <tr>\n",
       "      <th>9952</th>\n",
       "      <td>5912</td>\n",
       "      <td>User5912</td>\n",
       "      <td>41.0</td>\n",
       "      <td>NaN</td>\n",
       "      <td>Mobile</td>\n",
       "      <td>NaN</td>\n",
       "      <td>Education</td>\n",
       "      <td>Night</td>\n",
       "      <td>1</td>\n",
       "    </tr>\n",
       "    <tr>\n",
       "      <th>9960</th>\n",
       "      <td>9638</td>\n",
       "      <td>User9638</td>\n",
       "      <td>64.0</td>\n",
       "      <td>NaN</td>\n",
       "      <td>Desktop</td>\n",
       "      <td>0.0</td>\n",
       "      <td>Entertainment</td>\n",
       "      <td>Morning</td>\n",
       "      <td>0</td>\n",
       "    </tr>\n",
       "    <tr>\n",
       "      <th>9986</th>\n",
       "      <td>5574</td>\n",
       "      <td>User5574</td>\n",
       "      <td>52.0</td>\n",
       "      <td>1.0</td>\n",
       "      <td>Desktop</td>\n",
       "      <td>1.0</td>\n",
       "      <td>Shopping</td>\n",
       "      <td>Afternoon</td>\n",
       "      <td>1</td>\n",
       "    </tr>\n",
       "    <tr>\n",
       "      <th>9999</th>\n",
       "      <td>3056</td>\n",
       "      <td>User3056</td>\n",
       "      <td>44.0</td>\n",
       "      <td>0.0</td>\n",
       "      <td>Tablet</td>\n",
       "      <td>0.0</td>\n",
       "      <td>Social Media</td>\n",
       "      <td>Morning</td>\n",
       "      <td>0</td>\n",
       "    </tr>\n",
       "  </tbody>\n",
       "</table>\n",
       "<p>816 rows × 9 columns</p>\n",
       "</div>"
      ],
      "text/plain": [
       "        id full_name   age  gender device_type  ad_position browsing_history  \\\n",
       "17     188   User188  56.0     1.0      Tablet          1.0             News   \n",
       "25    4890  User4890  43.0     0.0      Tablet          1.0        Education   \n",
       "33    4985  User4985  37.0     0.0      Mobile          0.0             News   \n",
       "52    9888  User9888  49.0     0.0      Mobile          0.0             News   \n",
       "102   8201  User8201  59.0     1.0     Desktop          1.0     Social Media   \n",
       "...    ...       ...   ...     ...         ...          ...              ...   \n",
       "9951  7268  User7268  28.0     1.0     Desktop          1.0             News   \n",
       "9952  5912  User5912  41.0     NaN      Mobile          NaN        Education   \n",
       "9960  9638  User9638  64.0     NaN     Desktop          0.0    Entertainment   \n",
       "9986  5574  User5574  52.0     1.0     Desktop          1.0         Shopping   \n",
       "9999  3056  User3056  44.0     0.0      Tablet          0.0     Social Media   \n",
       "\n",
       "     time_of_day  click  \n",
       "17       Morning      1  \n",
       "25     Afternoon      1  \n",
       "33       Evening      0  \n",
       "52       Morning      1  \n",
       "102      Morning      0  \n",
       "...          ...    ...  \n",
       "9951     Evening      1  \n",
       "9952       Night      1  \n",
       "9960     Morning      0  \n",
       "9986   Afternoon      1  \n",
       "9999     Morning      0  \n",
       "\n",
       "[816 rows x 9 columns]"
      ]
     },
     "execution_count": 8,
     "metadata": {},
     "output_type": "execute_result"
    }
   ],
   "source": [
    "df\n"
   ]
  },
  {
   "cell_type": "code",
   "execution_count": 9,
   "metadata": {},
   "outputs": [],
   "source": [
    "# splitting into group A (Top) and group B (bottom)\n",
    "group_a = df[df['ad_position'] == 0]\n",
    "group_b = df[df['ad_position'] == 1]"
   ]
  },
  {
   "cell_type": "code",
   "execution_count": 10,
   "metadata": {},
   "outputs": [],
   "source": [
    "# clicks and impressions\n",
    "clicks_A = group_a['click'].sum()\n",
    "clicks_B = group_b['click'].sum()\n",
    "n_A = len(group_a)\n",
    "n_B = len(group_b)"
   ]
  },
  {
   "cell_type": "code",
   "execution_count": 11,
   "id": "91aae76e",
   "metadata": {},
   "outputs": [
    {
     "name": "stdout",
     "output_type": "stream",
     "text": [
      "CTR (Top ads): 0.6327\n",
      "CTR (Bottom ads): 0.6784\n"
     ]
    }
   ],
   "source": [
    "# CTRs :Click through rate\n",
    "ctr_A = clicks_A / n_A\n",
    "ctr_B = clicks_B / n_B\n",
    "\n",
    "print(f\"CTR (Top ads): {ctr_A:.4f}\")\n",
    "print(f\"CTR (Bottom ads): {ctr_B:.4f}\")"
   ]
  },
  {
   "cell_type": "code",
   "execution_count": 12,
   "id": "6c8f28f5",
   "metadata": {},
   "outputs": [
    {
     "name": "stdout",
     "output_type": "stream",
     "text": [
      "Z_score: -1.1365\n",
      "P_value: 0.2557\n"
     ]
    }
   ],
   "source": [
    "# performing z-test\n",
    "z_score, p_value = proportions_ztest([clicks_A, clicks_B], [n_A, n_B])\n",
    "print(f\"Z_score: {z_score:.4f}\")\n",
    "print(f\"P_value: {p_value:.4f}\")"
   ]
  },
  {
   "cell_type": "code",
   "execution_count": 13,
   "id": "325f6b9f",
   "metadata": {},
   "outputs": [
    {
     "name": "stdout",
     "output_type": "stream",
     "text": [
      "Result: No statistically significant difference in CTR.\n"
     ]
    }
   ],
   "source": [
    "alpha = 0.05\n",
    "if p_value < alpha:\n",
    "    print(\"Result: Statistically significant difference in CTR between top and bottom positions.\")\n",
    "else:\n",
    "    print(\"Result: No statistically significant difference in CTR.\")"
   ]
  },
  {
   "cell_type": "markdown",
   "id": "7d3f2b2b",
   "metadata": {},
   "source": [
    "Part2 "
   ]
  },
  {
   "cell_type": "code",
   "execution_count": 14,
   "id": "294f3b15",
   "metadata": {},
   "outputs": [],
   "source": [
    "# loading air quality datasets\n",
    "train = pd.read_csv(\"train.csv\")\n",
    "test1 = pd.read_csv(\"test1.csv\")\n",
    "test2 = pd.read_csv(\"test2.csv\")"
   ]
  },
  {
   "cell_type": "code",
   "execution_count": 15,
   "id": "19bc0669",
   "metadata": {},
   "outputs": [],
   "source": [
    "train_no2 = train['NO2(GT)'].dropna()\n",
    "test1_no2 = test1['NO2(GT)'].dropna()\n",
    "test2_no2 = test2['NO2(GT)'].dropna()"
   ]
  },
  {
   "cell_type": "code",
   "execution_count": 16,
   "metadata": {},
   "outputs": [
    {
     "name": "stdout",
     "output_type": "stream",
     "text": [
      "\n",
      "Train NO2(GT): count    3200.000000\n",
      "mean       45.605625\n",
      "std       114.663990\n",
      "min      -200.000000\n",
      "25%        47.750000\n",
      "50%        84.000000\n",
      "75%       114.000000\n",
      "max       233.000000\n",
      "Name: NO2(GT), dtype: float64\n",
      "Test1 NO2(GT): count    800.000000\n",
      "mean      42.621250\n",
      "std      117.115831\n",
      "min     -200.000000\n",
      "25%       46.750000\n",
      "50%       84.000000\n",
      "75%      114.000000\n",
      "max      223.000000\n",
      "Name: NO2(GT), dtype: float64\n",
      "Test2 NO2(GT): count    800.000000\n",
      "mean     129.682500\n",
      "std       61.071957\n",
      "min     -200.000000\n",
      "25%      100.000000\n",
      "50%      133.000000\n",
      "75%      163.250000\n",
      "max      248.000000\n",
      "Name: NO2(GT), dtype: float64\n"
     ]
    }
   ],
   "source": [
    "# just preview\n",
    "print(\"\\nTrain NO2(GT):\", train_no2.describe())\n",
    "print(\"Test1 NO2(GT):\", test1_no2.describe())\n",
    "print(\"Test2 NO2(GT):\", test2_no2.describe())"
   ]
  },
  {
   "cell_type": "code",
   "execution_count": 17,
   "id": "472f2989",
   "metadata": {},
   "outputs": [
    {
     "name": "stdout",
     "output_type": "stream",
     "text": [
      "Test1 vs. Train: KS Stat = 0.0191, P-Value = 0.9722\n",
      "Test2 vs. Train: KS Stat = 0.4075, P-Value = 0.0000\n"
     ]
    }
   ],
   "source": [
    "# comparing train vs test1\n",
    "ks_stat1, p_val1 = ks_2samp(train_no2, test1_no2)\n",
    "print(f\"Test1 vs. Train: KS Stat = {ks_stat1:.4f}, P-Value = {p_val1:.4f}\")\n",
    "\n",
    "\n",
    "# comparing train vs test2\n",
    "ks_stat2, p_val2 = ks_2samp(train_no2, test2_no2)\n",
    "print(f\"Test2 vs. Train: KS Stat = {ks_stat2:.4f}, P-Value = {p_val2:.4f}\")\n",
    "\n"
   ]
  },
  {
   "cell_type": "code",
   "execution_count": 18,
   "id": "03a5fe67",
   "metadata": {},
   "outputs": [
    {
     "name": "stdout",
     "output_type": "stream",
     "text": [
      "Covariate Shift in Test1: False\n",
      "Covariate Shift in Test2: True\n"
     ]
    }
   ],
   "source": [
    "alpha = 0.05\n",
    "shift_test1 = p_val1 < alpha  # True if shift detected\n",
    "shift_test2 = p_val2 < alpha\n",
    "\n",
    "print(f\"Covariate Shift in Test1: {shift_test1}\")\n",
    "print(f\"Covariate Shift in Test2: {shift_test2}\")"
   ]
  },
  {
   "cell_type": "code",
   "execution_count": 19,
   "id": "7c4155ab",
   "metadata": {},
   "outputs": [
    {
     "name": "stdout",
     "output_type": "stream",
     "text": [
      "Test2 shows a larger covariate shift from training data.\n"
     ]
    }
   ],
   "source": [
    "# Covariance shift\n",
    "\n",
    "if ks_stat1 > ks_stat2:\n",
    "    print(\"Test1 shows a larger covariate shift from training data.\")\n",
    "else:\n",
    "    print(\"Test2 shows a larger covariate shift from training data.\")\n"
   ]
  }
 ],
 "metadata": {
  "kernelspec": {
   "display_name": "Python (conda-wsl)",
   "language": "python",
   "name": "base"
  },
  "language_info": {
   "codemirror_mode": {
    "name": "ipython",
    "version": 3
   },
   "file_extension": ".py",
   "mimetype": "text/x-python",
   "name": "python",
   "nbconvert_exporter": "python",
   "pygments_lexer": "ipython3",
   "version": "3.12.7"
  }
 },
 "nbformat": 4,
 "nbformat_minor": 5
}
