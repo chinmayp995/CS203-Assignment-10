{
 "cells": [
  {
   "cell_type": "code",
   "execution_count": 1,
   "id": "af2c73bc",
   "metadata": {},
   "outputs": [],
   "source": [
    "#importing necessary libararies\n",
    "\n",
    "import numpy as np\n",
    "from scipy.stats import ks_2samp\n",
    "from statsmodels.stats.proportion import proportions_ztest\n",
    "import pandas as pd\n"
   ]
  },
  {
   "cell_type": "markdown",
   "id": "b3145884",
   "metadata": {},
   "source": [
    "Part 1 :A/B Testing using Ad Click Prediction"
   ]
  },
  {
   "cell_type": "code",
   "execution_count": 2,
   "metadata": {},
   "outputs": [
    {
     "name": "stdout",
     "output_type": "stream",
     "text": [
      "     id full_name   age      gender device_type ad_position browsing_history  \\\n",
      "0   670   User670  22.0         NaN     Desktop         Top         Shopping   \n",
      "1  3044  User3044   NaN        Male     Desktop         Top              NaN   \n",
      "2  5912  User5912  41.0  Non-Binary         NaN        Side        Education   \n",
      "3  5418  User5418  34.0        Male         NaN         NaN    Entertainment   \n",
      "4  9452  User9452  39.0  Non-Binary         NaN         NaN     Social Media   \n",
      "\n",
      "  time_of_day  click  \n",
      "0   Afternoon      1  \n",
      "1         NaN      1  \n",
      "2       Night      1  \n",
      "3     Evening      1  \n",
      "4     Morning      0  \n"
     ]
    }
   ],
   "source": [
    "\n",
    "# printing first few rows of dataset\n",
    "df = pd.read_csv(\"ad_click_dataset.csv\")\n",
    "print(df.head())"
   ]
  },
  {
   "cell_type": "code",
   "execution_count": 3,
   "id": "c8fef0bc",
   "metadata": {},
   "outputs": [
    {
     "name": "stdout",
     "output_type": "stream",
     "text": [
      "<class 'pandas.core.frame.DataFrame'>\n",
      "RangeIndex: 10000 entries, 0 to 9999\n",
      "Data columns (total 9 columns):\n",
      " #   Column            Non-Null Count  Dtype  \n",
      "---  ------            --------------  -----  \n",
      " 0   id                10000 non-null  int64  \n",
      " 1   full_name         10000 non-null  object \n",
      " 2   age               5234 non-null   float64\n",
      " 3   gender            5307 non-null   object \n",
      " 4   device_type       8000 non-null   object \n",
      " 5   ad_position       8000 non-null   object \n",
      " 6   browsing_history  5218 non-null   object \n",
      " 7   time_of_day       8000 non-null   object \n",
      " 8   click             10000 non-null  int64  \n",
      "dtypes: float64(1), int64(2), object(6)\n",
      "memory usage: 703.3+ KB\n",
      "None\n"
     ]
    }
   ],
   "source": [
    "print(df.info())   #getting information of the data"
   ]
  },
  {
   "cell_type": "code",
   "execution_count": 4,
   "metadata": {},
   "outputs": [
    {
     "name": "stdout",
     "output_type": "stream",
     "text": [
      "\n",
      "Missing values:\n",
      " id                     0\n",
      "full_name              0\n",
      "age                 4766\n",
      "gender              4693\n",
      "device_type         2000\n",
      "ad_position         2000\n",
      "browsing_history    4782\n",
      "time_of_day         2000\n",
      "click                  0\n",
      "dtype: int64\n"
     ]
    }
   ],
   "source": [
    "\n",
    "# doing data cleaning\n",
    "print(\"\\nMissing values:\\n\", df.isnull().sum())\n",
    "\n",
    "df = df.dropna(subset=['click'])\n",
    "df = df.dropna(subset=['ad_position'])"
   ]
  },
  {
   "cell_type": "code",
   "execution_count": 5,
   "id": "c74400e2",
   "metadata": {},
   "outputs": [
    {
     "name": "stdout",
     "output_type": "stream",
     "text": [
      "<class 'pandas.core.frame.DataFrame'>\n",
      "Index: 8000 entries, 0 to 9999\n",
      "Data columns (total 9 columns):\n",
      " #   Column            Non-Null Count  Dtype  \n",
      "---  ------            --------------  -----  \n",
      " 0   id                8000 non-null   int64  \n",
      " 1   full_name         8000 non-null   object \n",
      " 2   age               4186 non-null   float64\n",
      " 3   gender            4221 non-null   object \n",
      " 4   device_type       6433 non-null   object \n",
      " 5   ad_position       8000 non-null   object \n",
      " 6   browsing_history  4227 non-null   object \n",
      " 7   time_of_day       6408 non-null   object \n",
      " 8   click             8000 non-null   int64  \n",
      "dtypes: float64(1), int64(2), object(6)\n",
      "memory usage: 625.0+ KB\n",
      "None\n"
     ]
    }
   ],
   "source": [
    "print(df.info()) "
   ]
  },
  {
   "cell_type": "code",
   "execution_count": 6,
   "id": "f6ccff7d",
   "metadata": {},
   "outputs": [
    {
     "data": {
      "application/vnd.microsoft.datawrangler.viewer.v0+json": {
       "columns": [
        {
         "name": "index",
         "rawType": "int64",
         "type": "integer"
        },
        {
         "name": "id",
         "rawType": "int64",
         "type": "integer"
        },
        {
         "name": "full_name",
         "rawType": "object",
         "type": "string"
        },
        {
         "name": "age",
         "rawType": "float64",
         "type": "float"
        },
        {
         "name": "gender",
         "rawType": "object",
         "type": "unknown"
        },
        {
         "name": "device_type",
         "rawType": "object",
         "type": "unknown"
        },
        {
         "name": "ad_position",
         "rawType": "object",
         "type": "string"
        },
        {
         "name": "browsing_history",
         "rawType": "object",
         "type": "unknown"
        },
        {
         "name": "time_of_day",
         "rawType": "object",
         "type": "unknown"
        },
        {
         "name": "click",
         "rawType": "int64",
         "type": "integer"
        }
       ],
       "conversionMethod": "pd.DataFrame",
       "ref": "302ca0fa-d907-4bbb-8bb7-91b3f4554ae2",
       "rows": [
        [
         "0",
         "670",
         "User670",
         "22.0",
         null,
         "Desktop",
         "Top",
         "Shopping",
         "Afternoon",
         "1"
        ],
        [
         "1",
         "3044",
         "User3044",
         null,
         "Male",
         "Desktop",
         "Top",
         null,
         null,
         "1"
        ],
        [
         "2",
         "5912",
         "User5912",
         "41.0",
         "Non-Binary",
         null,
         "Side",
         "Education",
         "Night",
         "1"
        ],
        [
         "5",
         "5942",
         "User5942",
         null,
         "Non-Binary",
         null,
         "Bottom",
         "Social Media",
         "Evening",
         "1"
        ],
        [
         "6",
         "7808",
         "User7808",
         "26.0",
         "Female",
         "Desktop",
         "Top",
         null,
         null,
         "1"
        ],
        [
         "7",
         "5065",
         "User5065",
         "40.0",
         "Male",
         "Mobile",
         "Side",
         null,
         "Evening",
         "0"
        ],
        [
         "8",
         "7993",
         "User7993",
         null,
         "Non-Binary",
         "Mobile",
         "Bottom",
         "Social Media",
         null,
         "1"
        ],
        [
         "9",
         "4509",
         "User4509",
         null,
         null,
         null,
         "Bottom",
         "Education",
         "Afternoon",
         "1"
        ],
        [
         "10",
         "2595",
         "User2595",
         null,
         null,
         null,
         "Bottom",
         null,
         "Morning",
         "1"
        ],
        [
         "11",
         "7466",
         "User7466",
         "47.0",
         null,
         "Mobile",
         "Bottom",
         null,
         "Afternoon",
         "1"
        ],
        [
         "12",
         "8171",
         "User8171",
         null,
         "Non-Binary",
         "Mobile",
         "Side",
         "Education",
         "Afternoon",
         "0"
        ],
        [
         "15",
         "7529",
         "User7529",
         null,
         null,
         null,
         "Top",
         "Entertainment",
         "Afternoon",
         "0"
        ],
        [
         "16",
         "8127",
         "User8127",
         null,
         "Male",
         "Tablet",
         "Bottom",
         null,
         null,
         "1"
        ],
        [
         "17",
         "188",
         "User188",
         "56.0",
         "Female",
         "Tablet",
         "Bottom",
         "News",
         "Morning",
         "1"
        ],
        [
         "18",
         "2124",
         "User2124",
         null,
         "Male",
         "Desktop",
         "Top",
         null,
         "Evening",
         "1"
        ],
        [
         "19",
         "7335",
         "User7335",
         "24.0",
         null,
         "Tablet",
         "Side",
         "Entertainment",
         "Night",
         "0"
        ],
        [
         "20",
         "5569",
         "User5569",
         null,
         null,
         "Mobile",
         "Bottom",
         null,
         "Afternoon",
         "1"
        ],
        [
         "21",
         "2272",
         "User2272",
         "52.0",
         null,
         "Tablet",
         "Bottom",
         "News",
         "Morning",
         "1"
        ],
        [
         "22",
         "2722",
         "User2722",
         "39.0",
         null,
         "Desktop",
         "Top",
         null,
         null,
         "1"
        ],
        [
         "23",
         "316",
         "User316",
         "42.0",
         null,
         "Desktop",
         "Top",
         null,
         "Night",
         "1"
        ],
        [
         "25",
         "4890",
         "User4890",
         "43.0",
         "Male",
         "Tablet",
         "Bottom",
         "Education",
         "Afternoon",
         "1"
        ],
        [
         "28",
         "6724",
         "User6724",
         "37.0",
         "Female",
         null,
         "Top",
         "Entertainment",
         "Evening",
         "1"
        ],
        [
         "29",
         "8253",
         "User8253",
         null,
         "Non-Binary",
         "Desktop",
         "Bottom",
         "Entertainment",
         null,
         "1"
        ],
        [
         "30",
         "4945",
         "User4945",
         "31.0",
         null,
         "Tablet",
         "Top",
         null,
         "Morning",
         "1"
        ],
        [
         "31",
         "1729",
         "User1729",
         "26.0",
         "Female",
         "Mobile",
         "Top",
         null,
         "Afternoon",
         "1"
        ],
        [
         "32",
         "6862",
         "User6862",
         null,
         "Male",
         "Tablet",
         "Side",
         null,
         null,
         "1"
        ],
        [
         "33",
         "4985",
         "User4985",
         "37.0",
         "Male",
         "Mobile",
         "Top",
         "News",
         "Evening",
         "0"
        ],
        [
         "34",
         "7361",
         "User7361",
         null,
         null,
         "Mobile",
         "Top",
         "Entertainment",
         "Afternoon",
         "0"
        ],
        [
         "35",
         "1524",
         "User1524",
         "24.0",
         null,
         "Mobile",
         "Bottom",
         null,
         "Night",
         "1"
        ],
        [
         "36",
         "2542",
         "User2542",
         "58.0",
         "Non-Binary",
         "Mobile",
         "Side",
         null,
         "Evening",
         "1"
        ],
        [
         "37",
         "119",
         "User119",
         "59.0",
         null,
         "Tablet",
         "Top",
         null,
         null,
         "1"
        ],
        [
         "38",
         "5881",
         "User5881",
         "26.0",
         "Non-Binary",
         "Tablet",
         "Top",
         null,
         "Morning",
         "1"
        ],
        [
         "39",
         "9642",
         "User9642",
         null,
         "Non-Binary",
         null,
         "Bottom",
         null,
         "Evening",
         "1"
        ],
        [
         "43",
         "7661",
         "User7661",
         "48.0",
         null,
         "Mobile",
         "Side",
         "News",
         "Night",
         "1"
        ],
        [
         "44",
         "4228",
         "User4228",
         null,
         null,
         "Desktop",
         "Side",
         null,
         "Morning",
         "1"
        ],
        [
         "45",
         "5574",
         "User5574",
         "52.0",
         "Female",
         "Desktop",
         "Bottom",
         null,
         "Afternoon",
         "1"
        ],
        [
         "46",
         "120",
         "User120",
         null,
         null,
         "Desktop",
         "Side",
         null,
         "Night",
         "0"
        ],
        [
         "47",
         "6143",
         "User6143",
         null,
         null,
         null,
         "Bottom",
         null,
         "Afternoon",
         "1"
        ],
        [
         "48",
         "301",
         "User301",
         null,
         "Male",
         "Tablet",
         "Side",
         "Social Media",
         null,
         "1"
        ],
        [
         "49",
         "5301",
         "User5301",
         null,
         "Male",
         null,
         "Side",
         "Social Media",
         null,
         "1"
        ],
        [
         "51",
         "9806",
         "User9806",
         "58.0",
         "Male",
         "Tablet",
         "Bottom",
         null,
         null,
         "1"
        ],
        [
         "52",
         "9888",
         "User9888",
         "49.0",
         "Male",
         "Mobile",
         "Top",
         "News",
         "Morning",
         "1"
        ],
        [
         "53",
         "4525",
         "User4525",
         null,
         null,
         "Mobile",
         "Top",
         "Entertainment",
         null,
         "0"
        ],
        [
         "54",
         "6153",
         "User6153",
         "30.0",
         null,
         null,
         "Side",
         "Entertainment",
         "Night",
         "1"
        ],
        [
         "55",
         "7498",
         "User7498",
         null,
         "Male",
         null,
         "Side",
         "Shopping",
         "Afternoon",
         "1"
        ],
        [
         "57",
         "2244",
         "User2244",
         "42.0",
         null,
         "Mobile",
         "Top",
         null,
         "Evening",
         "0"
        ],
        [
         "59",
         "4855",
         "User4855",
         null,
         "Non-Binary",
         "Desktop",
         "Top",
         null,
         null,
         "0"
        ],
        [
         "61",
         "813",
         "User813",
         null,
         null,
         "Tablet",
         "Top",
         "Education",
         "Morning",
         "1"
        ],
        [
         "62",
         "4957",
         "User4957",
         "58.0",
         "Male",
         null,
         "Bottom",
         "Social Media",
         "Evening",
         "1"
        ],
        [
         "63",
         "9431",
         "User9431",
         null,
         null,
         "Mobile",
         "Top",
         "Entertainment",
         "Afternoon",
         "1"
        ]
       ],
       "shape": {
        "columns": 9,
        "rows": 8000
       }
      },
      "text/html": [
       "<div>\n",
       "<style scoped>\n",
       "    .dataframe tbody tr th:only-of-type {\n",
       "        vertical-align: middle;\n",
       "    }\n",
       "\n",
       "    .dataframe tbody tr th {\n",
       "        vertical-align: top;\n",
       "    }\n",
       "\n",
       "    .dataframe thead th {\n",
       "        text-align: right;\n",
       "    }\n",
       "</style>\n",
       "<table border=\"1\" class=\"dataframe\">\n",
       "  <thead>\n",
       "    <tr style=\"text-align: right;\">\n",
       "      <th></th>\n",
       "      <th>id</th>\n",
       "      <th>full_name</th>\n",
       "      <th>age</th>\n",
       "      <th>gender</th>\n",
       "      <th>device_type</th>\n",
       "      <th>ad_position</th>\n",
       "      <th>browsing_history</th>\n",
       "      <th>time_of_day</th>\n",
       "      <th>click</th>\n",
       "    </tr>\n",
       "  </thead>\n",
       "  <tbody>\n",
       "    <tr>\n",
       "      <th>0</th>\n",
       "      <td>670</td>\n",
       "      <td>User670</td>\n",
       "      <td>22.0</td>\n",
       "      <td>NaN</td>\n",
       "      <td>Desktop</td>\n",
       "      <td>Top</td>\n",
       "      <td>Shopping</td>\n",
       "      <td>Afternoon</td>\n",
       "      <td>1</td>\n",
       "    </tr>\n",
       "    <tr>\n",
       "      <th>1</th>\n",
       "      <td>3044</td>\n",
       "      <td>User3044</td>\n",
       "      <td>NaN</td>\n",
       "      <td>Male</td>\n",
       "      <td>Desktop</td>\n",
       "      <td>Top</td>\n",
       "      <td>NaN</td>\n",
       "      <td>NaN</td>\n",
       "      <td>1</td>\n",
       "    </tr>\n",
       "    <tr>\n",
       "      <th>2</th>\n",
       "      <td>5912</td>\n",
       "      <td>User5912</td>\n",
       "      <td>41.0</td>\n",
       "      <td>Non-Binary</td>\n",
       "      <td>NaN</td>\n",
       "      <td>Side</td>\n",
       "      <td>Education</td>\n",
       "      <td>Night</td>\n",
       "      <td>1</td>\n",
       "    </tr>\n",
       "    <tr>\n",
       "      <th>5</th>\n",
       "      <td>5942</td>\n",
       "      <td>User5942</td>\n",
       "      <td>NaN</td>\n",
       "      <td>Non-Binary</td>\n",
       "      <td>NaN</td>\n",
       "      <td>Bottom</td>\n",
       "      <td>Social Media</td>\n",
       "      <td>Evening</td>\n",
       "      <td>1</td>\n",
       "    </tr>\n",
       "    <tr>\n",
       "      <th>6</th>\n",
       "      <td>7808</td>\n",
       "      <td>User7808</td>\n",
       "      <td>26.0</td>\n",
       "      <td>Female</td>\n",
       "      <td>Desktop</td>\n",
       "      <td>Top</td>\n",
       "      <td>NaN</td>\n",
       "      <td>NaN</td>\n",
       "      <td>1</td>\n",
       "    </tr>\n",
       "    <tr>\n",
       "      <th>...</th>\n",
       "      <td>...</td>\n",
       "      <td>...</td>\n",
       "      <td>...</td>\n",
       "      <td>...</td>\n",
       "      <td>...</td>\n",
       "      <td>...</td>\n",
       "      <td>...</td>\n",
       "      <td>...</td>\n",
       "      <td>...</td>\n",
       "    </tr>\n",
       "    <tr>\n",
       "      <th>9992</th>\n",
       "      <td>5818</td>\n",
       "      <td>User5818</td>\n",
       "      <td>NaN</td>\n",
       "      <td>NaN</td>\n",
       "      <td>Tablet</td>\n",
       "      <td>Top</td>\n",
       "      <td>Social Media</td>\n",
       "      <td>Night</td>\n",
       "      <td>1</td>\n",
       "    </tr>\n",
       "    <tr>\n",
       "      <th>9995</th>\n",
       "      <td>8510</td>\n",
       "      <td>User8510</td>\n",
       "      <td>NaN</td>\n",
       "      <td>NaN</td>\n",
       "      <td>Mobile</td>\n",
       "      <td>Top</td>\n",
       "      <td>Education</td>\n",
       "      <td>NaN</td>\n",
       "      <td>0</td>\n",
       "    </tr>\n",
       "    <tr>\n",
       "      <th>9996</th>\n",
       "      <td>7843</td>\n",
       "      <td>User7843</td>\n",
       "      <td>NaN</td>\n",
       "      <td>Female</td>\n",
       "      <td>Desktop</td>\n",
       "      <td>Bottom</td>\n",
       "      <td>Entertainment</td>\n",
       "      <td>NaN</td>\n",
       "      <td>0</td>\n",
       "    </tr>\n",
       "    <tr>\n",
       "      <th>9997</th>\n",
       "      <td>3914</td>\n",
       "      <td>User3914</td>\n",
       "      <td>NaN</td>\n",
       "      <td>Male</td>\n",
       "      <td>Mobile</td>\n",
       "      <td>Side</td>\n",
       "      <td>NaN</td>\n",
       "      <td>Morning</td>\n",
       "      <td>0</td>\n",
       "    </tr>\n",
       "    <tr>\n",
       "      <th>9999</th>\n",
       "      <td>3056</td>\n",
       "      <td>User3056</td>\n",
       "      <td>44.0</td>\n",
       "      <td>Male</td>\n",
       "      <td>Tablet</td>\n",
       "      <td>Top</td>\n",
       "      <td>Social Media</td>\n",
       "      <td>Morning</td>\n",
       "      <td>0</td>\n",
       "    </tr>\n",
       "  </tbody>\n",
       "</table>\n",
       "<p>8000 rows × 9 columns</p>\n",
       "</div>"
      ],
      "text/plain": [
       "        id full_name   age      gender device_type ad_position  \\\n",
       "0      670   User670  22.0         NaN     Desktop         Top   \n",
       "1     3044  User3044   NaN        Male     Desktop         Top   \n",
       "2     5912  User5912  41.0  Non-Binary         NaN        Side   \n",
       "5     5942  User5942   NaN  Non-Binary         NaN      Bottom   \n",
       "6     7808  User7808  26.0      Female     Desktop         Top   \n",
       "...    ...       ...   ...         ...         ...         ...   \n",
       "9992  5818  User5818   NaN         NaN      Tablet         Top   \n",
       "9995  8510  User8510   NaN         NaN      Mobile         Top   \n",
       "9996  7843  User7843   NaN      Female     Desktop      Bottom   \n",
       "9997  3914  User3914   NaN        Male      Mobile        Side   \n",
       "9999  3056  User3056  44.0        Male      Tablet         Top   \n",
       "\n",
       "     browsing_history time_of_day  click  \n",
       "0            Shopping   Afternoon      1  \n",
       "1                 NaN         NaN      1  \n",
       "2           Education       Night      1  \n",
       "5        Social Media     Evening      1  \n",
       "6                 NaN         NaN      1  \n",
       "...               ...         ...    ...  \n",
       "9992     Social Media       Night      1  \n",
       "9995        Education         NaN      0  \n",
       "9996    Entertainment         NaN      0  \n",
       "9997              NaN     Morning      0  \n",
       "9999     Social Media     Morning      0  \n",
       "\n",
       "[8000 rows x 9 columns]"
      ]
     },
     "execution_count": 6,
     "metadata": {},
     "output_type": "execute_result"
    }
   ],
   "source": [
    "df\n"
   ]
  },
  {
   "cell_type": "code",
   "execution_count": 7,
   "id": "5864b36a",
   "metadata": {},
   "outputs": [
    {
     "name": "stdout",
     "output_type": "stream",
     "text": [
      "[nan 'Male' 'Non-Binary' 'Female']\n",
      "['Top' 'Side' 'Bottom']\n"
     ]
    }
   ],
   "source": [
    "print(df['gender'].unique())\n",
    "print(df['ad_position'].unique())\n"
   ]
  },
  {
   "cell_type": "code",
   "execution_count": 8,
   "id": "09554405",
   "metadata": {},
   "outputs": [],
   "source": [
    "# The categorical columns are gender,ad_position\n",
    "df['gender'] = df['gender'].astype('category')\n",
    "df['ad_position'] = df['ad_position'].astype('category')"
   ]
  },
  {
   "cell_type": "code",
   "execution_count": 9,
   "id": "3e97bdc1",
   "metadata": {},
   "outputs": [],
   "source": [
    "# converting to categorical\n",
    "df['gender'] = df['gender'].astype('category')\n",
    "df['ad_position'] = df['ad_position'].astype('category')\n",
    "\n",
    "# map gender categories\n",
    "df['gender'] = df['gender'].map({'Male': 0, 'Female': 1, 'Non-Binary': 2})\n",
    "\n",
    "# convert to category again and add -1 to handle NaN values\n",
    "df['gender'] = df['gender'].astype('category')\n",
    "df['gender'] = df['gender'].cat.add_categories([-1])\n",
    "df['gender'] = df['gender'].fillna(-1)\n",
    "\n",
    "# mapping ad_position categories\n",
    "df['ad_position'] = df['ad_position'].map({'Top':0,'Bottom':1,'Side':2})\n"
   ]
  },
  {
   "cell_type": "code",
   "execution_count": 10,
   "id": "7b30c78c",
   "metadata": {},
   "outputs": [
    {
     "data": {
      "application/vnd.microsoft.datawrangler.viewer.v0+json": {
       "columns": [
        {
         "name": "index",
         "rawType": "int64",
         "type": "integer"
        },
        {
         "name": "id",
         "rawType": "int64",
         "type": "integer"
        },
        {
         "name": "full_name",
         "rawType": "object",
         "type": "string"
        },
        {
         "name": "age",
         "rawType": "float64",
         "type": "float"
        },
        {
         "name": "gender",
         "rawType": "category",
         "type": "unknown"
        },
        {
         "name": "device_type",
         "rawType": "object",
         "type": "unknown"
        },
        {
         "name": "ad_position",
         "rawType": "category",
         "type": "unknown"
        },
        {
         "name": "browsing_history",
         "rawType": "object",
         "type": "unknown"
        },
        {
         "name": "time_of_day",
         "rawType": "object",
         "type": "unknown"
        },
        {
         "name": "click",
         "rawType": "int64",
         "type": "integer"
        }
       ],
       "conversionMethod": "pd.DataFrame",
       "ref": "169dbf21-c586-4982-8a96-59e156658bdc",
       "rows": [
        [
         "0",
         "670",
         "User670",
         "22.0",
         "-1",
         "Desktop",
         "0",
         "Shopping",
         "Afternoon",
         "1"
        ],
        [
         "1",
         "3044",
         "User3044",
         null,
         "0",
         "Desktop",
         "0",
         null,
         null,
         "1"
        ],
        [
         "2",
         "5912",
         "User5912",
         "41.0",
         "2",
         null,
         "2",
         "Education",
         "Night",
         "1"
        ],
        [
         "5",
         "5942",
         "User5942",
         null,
         "2",
         null,
         "1",
         "Social Media",
         "Evening",
         "1"
        ],
        [
         "6",
         "7808",
         "User7808",
         "26.0",
         "1",
         "Desktop",
         "0",
         null,
         null,
         "1"
        ]
       ],
       "shape": {
        "columns": 9,
        "rows": 5
       }
      },
      "text/html": [
       "<div>\n",
       "<style scoped>\n",
       "    .dataframe tbody tr th:only-of-type {\n",
       "        vertical-align: middle;\n",
       "    }\n",
       "\n",
       "    .dataframe tbody tr th {\n",
       "        vertical-align: top;\n",
       "    }\n",
       "\n",
       "    .dataframe thead th {\n",
       "        text-align: right;\n",
       "    }\n",
       "</style>\n",
       "<table border=\"1\" class=\"dataframe\">\n",
       "  <thead>\n",
       "    <tr style=\"text-align: right;\">\n",
       "      <th></th>\n",
       "      <th>id</th>\n",
       "      <th>full_name</th>\n",
       "      <th>age</th>\n",
       "      <th>gender</th>\n",
       "      <th>device_type</th>\n",
       "      <th>ad_position</th>\n",
       "      <th>browsing_history</th>\n",
       "      <th>time_of_day</th>\n",
       "      <th>click</th>\n",
       "    </tr>\n",
       "  </thead>\n",
       "  <tbody>\n",
       "    <tr>\n",
       "      <th>0</th>\n",
       "      <td>670</td>\n",
       "      <td>User670</td>\n",
       "      <td>22.0</td>\n",
       "      <td>-1</td>\n",
       "      <td>Desktop</td>\n",
       "      <td>0</td>\n",
       "      <td>Shopping</td>\n",
       "      <td>Afternoon</td>\n",
       "      <td>1</td>\n",
       "    </tr>\n",
       "    <tr>\n",
       "      <th>1</th>\n",
       "      <td>3044</td>\n",
       "      <td>User3044</td>\n",
       "      <td>NaN</td>\n",
       "      <td>0</td>\n",
       "      <td>Desktop</td>\n",
       "      <td>0</td>\n",
       "      <td>NaN</td>\n",
       "      <td>NaN</td>\n",
       "      <td>1</td>\n",
       "    </tr>\n",
       "    <tr>\n",
       "      <th>2</th>\n",
       "      <td>5912</td>\n",
       "      <td>User5912</td>\n",
       "      <td>41.0</td>\n",
       "      <td>2</td>\n",
       "      <td>NaN</td>\n",
       "      <td>2</td>\n",
       "      <td>Education</td>\n",
       "      <td>Night</td>\n",
       "      <td>1</td>\n",
       "    </tr>\n",
       "    <tr>\n",
       "      <th>5</th>\n",
       "      <td>5942</td>\n",
       "      <td>User5942</td>\n",
       "      <td>NaN</td>\n",
       "      <td>2</td>\n",
       "      <td>NaN</td>\n",
       "      <td>1</td>\n",
       "      <td>Social Media</td>\n",
       "      <td>Evening</td>\n",
       "      <td>1</td>\n",
       "    </tr>\n",
       "    <tr>\n",
       "      <th>6</th>\n",
       "      <td>7808</td>\n",
       "      <td>User7808</td>\n",
       "      <td>26.0</td>\n",
       "      <td>1</td>\n",
       "      <td>Desktop</td>\n",
       "      <td>0</td>\n",
       "      <td>NaN</td>\n",
       "      <td>NaN</td>\n",
       "      <td>1</td>\n",
       "    </tr>\n",
       "  </tbody>\n",
       "</table>\n",
       "</div>"
      ],
      "text/plain": [
       "     id full_name   age gender device_type ad_position browsing_history  \\\n",
       "0   670   User670  22.0     -1     Desktop           0         Shopping   \n",
       "1  3044  User3044   NaN      0     Desktop           0              NaN   \n",
       "2  5912  User5912  41.0      2         NaN           2        Education   \n",
       "5  5942  User5942   NaN      2         NaN           1     Social Media   \n",
       "6  7808  User7808  26.0      1     Desktop           0              NaN   \n",
       "\n",
       "  time_of_day  click  \n",
       "0   Afternoon      1  \n",
       "1         NaN      1  \n",
       "2       Night      1  \n",
       "5     Evening      1  \n",
       "6         NaN      1  "
      ]
     },
     "execution_count": 10,
     "metadata": {},
     "output_type": "execute_result"
    }
   ],
   "source": [
    "df.head()"
   ]
  },
  {
   "cell_type": "code",
   "execution_count": 11,
   "metadata": {},
   "outputs": [],
   "source": [
    "# splitting into group A (Top) and group B (bottom)\n",
    "group_a = df[df['ad_position'] == 0]\n",
    "group_b = df[df['ad_position'] == 1]"
   ]
  },
  {
   "cell_type": "code",
   "execution_count": 12,
   "id": "c3a26697",
   "metadata": {},
   "outputs": [
    {
     "data": {
      "application/vnd.microsoft.datawrangler.viewer.v0+json": {
       "columns": [
        {
         "name": "index",
         "rawType": "int64",
         "type": "integer"
        },
        {
         "name": "id",
         "rawType": "int64",
         "type": "integer"
        },
        {
         "name": "full_name",
         "rawType": "object",
         "type": "string"
        },
        {
         "name": "age",
         "rawType": "float64",
         "type": "float"
        },
        {
         "name": "gender",
         "rawType": "category",
         "type": "unknown"
        },
        {
         "name": "device_type",
         "rawType": "object",
         "type": "unknown"
        },
        {
         "name": "ad_position",
         "rawType": "category",
         "type": "unknown"
        },
        {
         "name": "browsing_history",
         "rawType": "object",
         "type": "unknown"
        },
        {
         "name": "time_of_day",
         "rawType": "object",
         "type": "unknown"
        },
        {
         "name": "click",
         "rawType": "int64",
         "type": "integer"
        }
       ],
       "conversionMethod": "pd.DataFrame",
       "ref": "21b6e9fe-fd0b-448d-9285-eec2b56dbc70",
       "rows": [
        [
         "0",
         "670",
         "User670",
         "22.0",
         "-1",
         "Desktop",
         "0",
         "Shopping",
         "Afternoon",
         "1"
        ],
        [
         "1",
         "3044",
         "User3044",
         null,
         "0",
         "Desktop",
         "0",
         null,
         null,
         "1"
        ],
        [
         "6",
         "7808",
         "User7808",
         "26.0",
         "1",
         "Desktop",
         "0",
         null,
         null,
         "1"
        ],
        [
         "15",
         "7529",
         "User7529",
         null,
         "-1",
         null,
         "0",
         "Entertainment",
         "Afternoon",
         "0"
        ],
        [
         "18",
         "2124",
         "User2124",
         null,
         "0",
         "Desktop",
         "0",
         null,
         "Evening",
         "1"
        ]
       ],
       "shape": {
        "columns": 9,
        "rows": 5
       }
      },
      "text/html": [
       "<div>\n",
       "<style scoped>\n",
       "    .dataframe tbody tr th:only-of-type {\n",
       "        vertical-align: middle;\n",
       "    }\n",
       "\n",
       "    .dataframe tbody tr th {\n",
       "        vertical-align: top;\n",
       "    }\n",
       "\n",
       "    .dataframe thead th {\n",
       "        text-align: right;\n",
       "    }\n",
       "</style>\n",
       "<table border=\"1\" class=\"dataframe\">\n",
       "  <thead>\n",
       "    <tr style=\"text-align: right;\">\n",
       "      <th></th>\n",
       "      <th>id</th>\n",
       "      <th>full_name</th>\n",
       "      <th>age</th>\n",
       "      <th>gender</th>\n",
       "      <th>device_type</th>\n",
       "      <th>ad_position</th>\n",
       "      <th>browsing_history</th>\n",
       "      <th>time_of_day</th>\n",
       "      <th>click</th>\n",
       "    </tr>\n",
       "  </thead>\n",
       "  <tbody>\n",
       "    <tr>\n",
       "      <th>0</th>\n",
       "      <td>670</td>\n",
       "      <td>User670</td>\n",
       "      <td>22.0</td>\n",
       "      <td>-1</td>\n",
       "      <td>Desktop</td>\n",
       "      <td>0</td>\n",
       "      <td>Shopping</td>\n",
       "      <td>Afternoon</td>\n",
       "      <td>1</td>\n",
       "    </tr>\n",
       "    <tr>\n",
       "      <th>1</th>\n",
       "      <td>3044</td>\n",
       "      <td>User3044</td>\n",
       "      <td>NaN</td>\n",
       "      <td>0</td>\n",
       "      <td>Desktop</td>\n",
       "      <td>0</td>\n",
       "      <td>NaN</td>\n",
       "      <td>NaN</td>\n",
       "      <td>1</td>\n",
       "    </tr>\n",
       "    <tr>\n",
       "      <th>6</th>\n",
       "      <td>7808</td>\n",
       "      <td>User7808</td>\n",
       "      <td>26.0</td>\n",
       "      <td>1</td>\n",
       "      <td>Desktop</td>\n",
       "      <td>0</td>\n",
       "      <td>NaN</td>\n",
       "      <td>NaN</td>\n",
       "      <td>1</td>\n",
       "    </tr>\n",
       "    <tr>\n",
       "      <th>15</th>\n",
       "      <td>7529</td>\n",
       "      <td>User7529</td>\n",
       "      <td>NaN</td>\n",
       "      <td>-1</td>\n",
       "      <td>NaN</td>\n",
       "      <td>0</td>\n",
       "      <td>Entertainment</td>\n",
       "      <td>Afternoon</td>\n",
       "      <td>0</td>\n",
       "    </tr>\n",
       "    <tr>\n",
       "      <th>18</th>\n",
       "      <td>2124</td>\n",
       "      <td>User2124</td>\n",
       "      <td>NaN</td>\n",
       "      <td>0</td>\n",
       "      <td>Desktop</td>\n",
       "      <td>0</td>\n",
       "      <td>NaN</td>\n",
       "      <td>Evening</td>\n",
       "      <td>1</td>\n",
       "    </tr>\n",
       "  </tbody>\n",
       "</table>\n",
       "</div>"
      ],
      "text/plain": [
       "      id full_name   age gender device_type ad_position browsing_history  \\\n",
       "0    670   User670  22.0     -1     Desktop           0         Shopping   \n",
       "1   3044  User3044   NaN      0     Desktop           0              NaN   \n",
       "6   7808  User7808  26.0      1     Desktop           0              NaN   \n",
       "15  7529  User7529   NaN     -1         NaN           0    Entertainment   \n",
       "18  2124  User2124   NaN      0     Desktop           0              NaN   \n",
       "\n",
       "   time_of_day  click  \n",
       "0    Afternoon      1  \n",
       "1          NaN      1  \n",
       "6          NaN      1  \n",
       "15   Afternoon      0  \n",
       "18     Evening      1  "
      ]
     },
     "execution_count": 12,
     "metadata": {},
     "output_type": "execute_result"
    }
   ],
   "source": [
    "group_a.head()\n"
   ]
  },
  {
   "cell_type": "code",
   "execution_count": 13,
   "id": "3ffa195d",
   "metadata": {},
   "outputs": [
    {
     "data": {
      "application/vnd.microsoft.datawrangler.viewer.v0+json": {
       "columns": [
        {
         "name": "index",
         "rawType": "int64",
         "type": "integer"
        },
        {
         "name": "id",
         "rawType": "int64",
         "type": "integer"
        },
        {
         "name": "full_name",
         "rawType": "object",
         "type": "string"
        },
        {
         "name": "age",
         "rawType": "float64",
         "type": "float"
        },
        {
         "name": "gender",
         "rawType": "category",
         "type": "unknown"
        },
        {
         "name": "device_type",
         "rawType": "object",
         "type": "unknown"
        },
        {
         "name": "ad_position",
         "rawType": "category",
         "type": "unknown"
        },
        {
         "name": "browsing_history",
         "rawType": "object",
         "type": "unknown"
        },
        {
         "name": "time_of_day",
         "rawType": "object",
         "type": "unknown"
        },
        {
         "name": "click",
         "rawType": "int64",
         "type": "integer"
        }
       ],
       "conversionMethod": "pd.DataFrame",
       "ref": "c564a91f-9c56-4888-af3a-9d71d5de2b4b",
       "rows": [
        [
         "5",
         "5942",
         "User5942",
         null,
         "2",
         null,
         "1",
         "Social Media",
         "Evening",
         "1"
        ],
        [
         "8",
         "7993",
         "User7993",
         null,
         "2",
         "Mobile",
         "1",
         "Social Media",
         null,
         "1"
        ],
        [
         "9",
         "4509",
         "User4509",
         null,
         "-1",
         null,
         "1",
         "Education",
         "Afternoon",
         "1"
        ],
        [
         "10",
         "2595",
         "User2595",
         null,
         "-1",
         null,
         "1",
         null,
         "Morning",
         "1"
        ],
        [
         "11",
         "7466",
         "User7466",
         "47.0",
         "-1",
         "Mobile",
         "1",
         null,
         "Afternoon",
         "1"
        ]
       ],
       "shape": {
        "columns": 9,
        "rows": 5
       }
      },
      "text/html": [
       "<div>\n",
       "<style scoped>\n",
       "    .dataframe tbody tr th:only-of-type {\n",
       "        vertical-align: middle;\n",
       "    }\n",
       "\n",
       "    .dataframe tbody tr th {\n",
       "        vertical-align: top;\n",
       "    }\n",
       "\n",
       "    .dataframe thead th {\n",
       "        text-align: right;\n",
       "    }\n",
       "</style>\n",
       "<table border=\"1\" class=\"dataframe\">\n",
       "  <thead>\n",
       "    <tr style=\"text-align: right;\">\n",
       "      <th></th>\n",
       "      <th>id</th>\n",
       "      <th>full_name</th>\n",
       "      <th>age</th>\n",
       "      <th>gender</th>\n",
       "      <th>device_type</th>\n",
       "      <th>ad_position</th>\n",
       "      <th>browsing_history</th>\n",
       "      <th>time_of_day</th>\n",
       "      <th>click</th>\n",
       "    </tr>\n",
       "  </thead>\n",
       "  <tbody>\n",
       "    <tr>\n",
       "      <th>5</th>\n",
       "      <td>5942</td>\n",
       "      <td>User5942</td>\n",
       "      <td>NaN</td>\n",
       "      <td>2</td>\n",
       "      <td>NaN</td>\n",
       "      <td>1</td>\n",
       "      <td>Social Media</td>\n",
       "      <td>Evening</td>\n",
       "      <td>1</td>\n",
       "    </tr>\n",
       "    <tr>\n",
       "      <th>8</th>\n",
       "      <td>7993</td>\n",
       "      <td>User7993</td>\n",
       "      <td>NaN</td>\n",
       "      <td>2</td>\n",
       "      <td>Mobile</td>\n",
       "      <td>1</td>\n",
       "      <td>Social Media</td>\n",
       "      <td>NaN</td>\n",
       "      <td>1</td>\n",
       "    </tr>\n",
       "    <tr>\n",
       "      <th>9</th>\n",
       "      <td>4509</td>\n",
       "      <td>User4509</td>\n",
       "      <td>NaN</td>\n",
       "      <td>-1</td>\n",
       "      <td>NaN</td>\n",
       "      <td>1</td>\n",
       "      <td>Education</td>\n",
       "      <td>Afternoon</td>\n",
       "      <td>1</td>\n",
       "    </tr>\n",
       "    <tr>\n",
       "      <th>10</th>\n",
       "      <td>2595</td>\n",
       "      <td>User2595</td>\n",
       "      <td>NaN</td>\n",
       "      <td>-1</td>\n",
       "      <td>NaN</td>\n",
       "      <td>1</td>\n",
       "      <td>NaN</td>\n",
       "      <td>Morning</td>\n",
       "      <td>1</td>\n",
       "    </tr>\n",
       "    <tr>\n",
       "      <th>11</th>\n",
       "      <td>7466</td>\n",
       "      <td>User7466</td>\n",
       "      <td>47.0</td>\n",
       "      <td>-1</td>\n",
       "      <td>Mobile</td>\n",
       "      <td>1</td>\n",
       "      <td>NaN</td>\n",
       "      <td>Afternoon</td>\n",
       "      <td>1</td>\n",
       "    </tr>\n",
       "  </tbody>\n",
       "</table>\n",
       "</div>"
      ],
      "text/plain": [
       "      id full_name   age gender device_type ad_position browsing_history  \\\n",
       "5   5942  User5942   NaN      2         NaN           1     Social Media   \n",
       "8   7993  User7993   NaN      2      Mobile           1     Social Media   \n",
       "9   4509  User4509   NaN     -1         NaN           1        Education   \n",
       "10  2595  User2595   NaN     -1         NaN           1              NaN   \n",
       "11  7466  User7466  47.0     -1      Mobile           1              NaN   \n",
       "\n",
       "   time_of_day  click  \n",
       "5      Evening      1  \n",
       "8          NaN      1  \n",
       "9    Afternoon      1  \n",
       "10     Morning      1  \n",
       "11   Afternoon      1  "
      ]
     },
     "execution_count": 13,
     "metadata": {},
     "output_type": "execute_result"
    }
   ],
   "source": [
    "group_b.head()"
   ]
  },
  {
   "cell_type": "code",
   "execution_count": 14,
   "metadata": {},
   "outputs": [],
   "source": [
    "# clicks and impressions\n",
    "clicks_A = group_a['click'].sum()\n",
    "clicks_B = group_b['click'].sum()\n",
    "n_A = len(group_a)\n",
    "n_B = len(group_b)"
   ]
  },
  {
   "cell_type": "code",
   "execution_count": 15,
   "id": "91aae76e",
   "metadata": {},
   "outputs": [
    {
     "name": "stdout",
     "output_type": "stream",
     "text": [
      "CTR (Top ads): 0.6350\n",
      "CTR (Bottom ads): 0.6873\n"
     ]
    }
   ],
   "source": [
    "# CTRs :Click through rate\n",
    "ctr_A = clicks_A / n_A\n",
    "ctr_B = clicks_B / n_B\n",
    "\n",
    "print(f\"CTR (Top ads): {ctr_A:.4f}\")\n",
    "print(f\"CTR (Bottom ads): {ctr_B:.4f}\")"
   ]
  },
  {
   "cell_type": "code",
   "execution_count": 16,
   "id": "6c8f28f5",
   "metadata": {},
   "outputs": [
    {
     "name": "stdout",
     "output_type": "stream",
     "text": [
      "Z_score: -4.0642\n",
      "P_value: 0.0000\n"
     ]
    }
   ],
   "source": [
    "# performing z-test\n",
    "z_score, p_value = proportions_ztest([clicks_A, clicks_B], [n_A, n_B])\n",
    "print(f\"Z_score: {z_score:.4f}\")\n",
    "print(f\"P_value: {p_value:.4f}\")"
   ]
  },
  {
   "cell_type": "code",
   "execution_count": 17,
   "id": "325f6b9f",
   "metadata": {},
   "outputs": [
    {
     "name": "stdout",
     "output_type": "stream",
     "text": [
      "Result: Statistically significant difference in CTR between top and bottom positions.\n"
     ]
    }
   ],
   "source": [
    "alpha = 0.05\n",
    "if p_value < alpha:\n",
    "    print(\"Result: Statistically significant difference in CTR between top and bottom positions.\")\n",
    "else:\n",
    "    print(\"Result: No statistically significant difference in CTR.\")"
   ]
  },
  {
   "cell_type": "markdown",
   "id": "7d3f2b2b",
   "metadata": {},
   "source": [
    "Part2 :  Covariate Shift Detection Using Air Quality Data"
   ]
  },
  {
   "cell_type": "code",
   "execution_count": 18,
   "id": "294f3b15",
   "metadata": {},
   "outputs": [],
   "source": [
    "# loading air quality datasets\n",
    "train = pd.read_csv(\"train.csv\")\n",
    "test1 = pd.read_csv(\"test1.csv\")\n",
    "test2 = pd.read_csv(\"test2.csv\")"
   ]
  },
  {
   "cell_type": "code",
   "execution_count": 19,
   "id": "af2e99ec",
   "metadata": {},
   "outputs": [
    {
     "data": {
      "application/vnd.microsoft.datawrangler.viewer.v0+json": {
       "columns": [
        {
         "name": "index",
         "rawType": "int64",
         "type": "integer"
        },
        {
         "name": "Unnamed: 0",
         "rawType": "int64",
         "type": "integer"
        },
        {
         "name": "Date",
         "rawType": "object",
         "type": "string"
        },
        {
         "name": "Time",
         "rawType": "object",
         "type": "string"
        },
        {
         "name": "CO(GT)",
         "rawType": "object",
         "type": "string"
        },
        {
         "name": "PT08.S1(CO)",
         "rawType": "float64",
         "type": "float"
        },
        {
         "name": "NMHC(GT)",
         "rawType": "float64",
         "type": "float"
        },
        {
         "name": "C6H6(GT)",
         "rawType": "object",
         "type": "string"
        },
        {
         "name": "PT08.S2(NMHC)",
         "rawType": "float64",
         "type": "float"
        },
        {
         "name": "NOx(GT)",
         "rawType": "float64",
         "type": "float"
        },
        {
         "name": "PT08.S3(NOx)",
         "rawType": "float64",
         "type": "float"
        },
        {
         "name": "NO2(GT)",
         "rawType": "float64",
         "type": "float"
        },
        {
         "name": "PT08.S4(NO2)",
         "rawType": "float64",
         "type": "float"
        },
        {
         "name": "PT08.S5(O3)",
         "rawType": "float64",
         "type": "float"
        },
        {
         "name": "T",
         "rawType": "object",
         "type": "string"
        },
        {
         "name": "RH",
         "rawType": "object",
         "type": "string"
        },
        {
         "name": "AH",
         "rawType": "object",
         "type": "string"
        },
        {
         "name": "Unnamed: 15",
         "rawType": "float64",
         "type": "float"
        },
        {
         "name": "Unnamed: 16",
         "rawType": "float64",
         "type": "float"
        }
       ],
       "conversionMethod": "pd.DataFrame",
       "ref": "6b461c1e-1129-4b30-beee-aa0b5d2c67b3",
       "rows": [
        [
         "0",
         "1849",
         "26/05/2004",
         "19.00.00",
         "-200",
         "1130.0",
         "-200.0",
         "22,7",
         "1368.0",
         "-200.0",
         "933.0",
         "-200.0",
         "1709.0",
         "1269.0",
         "26,7",
         "19,5",
         "0,6754",
         null,
         null
        ],
        [
         "1",
         "2533",
         "24/06/2004",
         "07.00.00",
         "1,2",
         "1030.0",
         "-200.0",
         "6,9",
         "851.0",
         "102.0",
         "824.0",
         "68.0",
         "1700.0",
         "983.0",
         "21,9",
         "57,0",
         "1,4742",
         null,
         null
        ],
        [
         "2",
         "3047",
         "15/07/2004",
         "17.00.00",
         "3,2",
         "1164.0",
         "-200.0",
         "20,3",
         "1306.0",
         "259.0",
         "648.0",
         "198.0",
         "1886.0",
         "1218.0",
         "35,5",
         "19,1",
         "1,0888",
         null,
         null
        ],
        [
         "3",
         "805",
         "13/04/2004",
         "07.00.00",
         "3,9",
         "1496.0",
         "524.0",
         "19,1",
         "1272.0",
         "328.0",
         "667.0",
         "130.0",
         "2011.0",
         "1399.0",
         "11,0",
         "64,2",
         "0,8398",
         null,
         null
        ],
        [
         "4",
         "2962",
         "12/07/2004",
         "04.00.00",
         "-200",
         "780.0",
         "-200.0",
         "1,8",
         "568.0",
         "24.0",
         "1200.0",
         "34.0",
         "1331.0",
         "501.0",
         "19,9",
         "51,3",
         "1,1803",
         null,
         null
        ]
       ],
       "shape": {
        "columns": 18,
        "rows": 5
       }
      },
      "text/html": [
       "<div>\n",
       "<style scoped>\n",
       "    .dataframe tbody tr th:only-of-type {\n",
       "        vertical-align: middle;\n",
       "    }\n",
       "\n",
       "    .dataframe tbody tr th {\n",
       "        vertical-align: top;\n",
       "    }\n",
       "\n",
       "    .dataframe thead th {\n",
       "        text-align: right;\n",
       "    }\n",
       "</style>\n",
       "<table border=\"1\" class=\"dataframe\">\n",
       "  <thead>\n",
       "    <tr style=\"text-align: right;\">\n",
       "      <th></th>\n",
       "      <th>Unnamed: 0</th>\n",
       "      <th>Date</th>\n",
       "      <th>Time</th>\n",
       "      <th>CO(GT)</th>\n",
       "      <th>PT08.S1(CO)</th>\n",
       "      <th>NMHC(GT)</th>\n",
       "      <th>C6H6(GT)</th>\n",
       "      <th>PT08.S2(NMHC)</th>\n",
       "      <th>NOx(GT)</th>\n",
       "      <th>PT08.S3(NOx)</th>\n",
       "      <th>NO2(GT)</th>\n",
       "      <th>PT08.S4(NO2)</th>\n",
       "      <th>PT08.S5(O3)</th>\n",
       "      <th>T</th>\n",
       "      <th>RH</th>\n",
       "      <th>AH</th>\n",
       "      <th>Unnamed: 15</th>\n",
       "      <th>Unnamed: 16</th>\n",
       "    </tr>\n",
       "  </thead>\n",
       "  <tbody>\n",
       "    <tr>\n",
       "      <th>0</th>\n",
       "      <td>1849</td>\n",
       "      <td>26/05/2004</td>\n",
       "      <td>19.00.00</td>\n",
       "      <td>-200</td>\n",
       "      <td>1130.0</td>\n",
       "      <td>-200.0</td>\n",
       "      <td>22,7</td>\n",
       "      <td>1368.0</td>\n",
       "      <td>-200.0</td>\n",
       "      <td>933.0</td>\n",
       "      <td>-200.0</td>\n",
       "      <td>1709.0</td>\n",
       "      <td>1269.0</td>\n",
       "      <td>26,7</td>\n",
       "      <td>19,5</td>\n",
       "      <td>0,6754</td>\n",
       "      <td>NaN</td>\n",
       "      <td>NaN</td>\n",
       "    </tr>\n",
       "    <tr>\n",
       "      <th>1</th>\n",
       "      <td>2533</td>\n",
       "      <td>24/06/2004</td>\n",
       "      <td>07.00.00</td>\n",
       "      <td>1,2</td>\n",
       "      <td>1030.0</td>\n",
       "      <td>-200.0</td>\n",
       "      <td>6,9</td>\n",
       "      <td>851.0</td>\n",
       "      <td>102.0</td>\n",
       "      <td>824.0</td>\n",
       "      <td>68.0</td>\n",
       "      <td>1700.0</td>\n",
       "      <td>983.0</td>\n",
       "      <td>21,9</td>\n",
       "      <td>57,0</td>\n",
       "      <td>1,4742</td>\n",
       "      <td>NaN</td>\n",
       "      <td>NaN</td>\n",
       "    </tr>\n",
       "    <tr>\n",
       "      <th>2</th>\n",
       "      <td>3047</td>\n",
       "      <td>15/07/2004</td>\n",
       "      <td>17.00.00</td>\n",
       "      <td>3,2</td>\n",
       "      <td>1164.0</td>\n",
       "      <td>-200.0</td>\n",
       "      <td>20,3</td>\n",
       "      <td>1306.0</td>\n",
       "      <td>259.0</td>\n",
       "      <td>648.0</td>\n",
       "      <td>198.0</td>\n",
       "      <td>1886.0</td>\n",
       "      <td>1218.0</td>\n",
       "      <td>35,5</td>\n",
       "      <td>19,1</td>\n",
       "      <td>1,0888</td>\n",
       "      <td>NaN</td>\n",
       "      <td>NaN</td>\n",
       "    </tr>\n",
       "    <tr>\n",
       "      <th>3</th>\n",
       "      <td>805</td>\n",
       "      <td>13/04/2004</td>\n",
       "      <td>07.00.00</td>\n",
       "      <td>3,9</td>\n",
       "      <td>1496.0</td>\n",
       "      <td>524.0</td>\n",
       "      <td>19,1</td>\n",
       "      <td>1272.0</td>\n",
       "      <td>328.0</td>\n",
       "      <td>667.0</td>\n",
       "      <td>130.0</td>\n",
       "      <td>2011.0</td>\n",
       "      <td>1399.0</td>\n",
       "      <td>11,0</td>\n",
       "      <td>64,2</td>\n",
       "      <td>0,8398</td>\n",
       "      <td>NaN</td>\n",
       "      <td>NaN</td>\n",
       "    </tr>\n",
       "    <tr>\n",
       "      <th>4</th>\n",
       "      <td>2962</td>\n",
       "      <td>12/07/2004</td>\n",
       "      <td>04.00.00</td>\n",
       "      <td>-200</td>\n",
       "      <td>780.0</td>\n",
       "      <td>-200.0</td>\n",
       "      <td>1,8</td>\n",
       "      <td>568.0</td>\n",
       "      <td>24.0</td>\n",
       "      <td>1200.0</td>\n",
       "      <td>34.0</td>\n",
       "      <td>1331.0</td>\n",
       "      <td>501.0</td>\n",
       "      <td>19,9</td>\n",
       "      <td>51,3</td>\n",
       "      <td>1,1803</td>\n",
       "      <td>NaN</td>\n",
       "      <td>NaN</td>\n",
       "    </tr>\n",
       "  </tbody>\n",
       "</table>\n",
       "</div>"
      ],
      "text/plain": [
       "   Unnamed: 0        Date      Time CO(GT)  PT08.S1(CO)  NMHC(GT) C6H6(GT)  \\\n",
       "0        1849  26/05/2004  19.00.00   -200       1130.0    -200.0     22,7   \n",
       "1        2533  24/06/2004  07.00.00    1,2       1030.0    -200.0      6,9   \n",
       "2        3047  15/07/2004  17.00.00    3,2       1164.0    -200.0     20,3   \n",
       "3         805  13/04/2004  07.00.00    3,9       1496.0     524.0     19,1   \n",
       "4        2962  12/07/2004  04.00.00   -200        780.0    -200.0      1,8   \n",
       "\n",
       "   PT08.S2(NMHC)  NOx(GT)  PT08.S3(NOx)  NO2(GT)  PT08.S4(NO2)  PT08.S5(O3)  \\\n",
       "0         1368.0   -200.0         933.0   -200.0        1709.0       1269.0   \n",
       "1          851.0    102.0         824.0     68.0        1700.0        983.0   \n",
       "2         1306.0    259.0         648.0    198.0        1886.0       1218.0   \n",
       "3         1272.0    328.0         667.0    130.0        2011.0       1399.0   \n",
       "4          568.0     24.0        1200.0     34.0        1331.0        501.0   \n",
       "\n",
       "      T    RH      AH  Unnamed: 15  Unnamed: 16  \n",
       "0  26,7  19,5  0,6754          NaN          NaN  \n",
       "1  21,9  57,0  1,4742          NaN          NaN  \n",
       "2  35,5  19,1  1,0888          NaN          NaN  \n",
       "3  11,0  64,2  0,8398          NaN          NaN  \n",
       "4  19,9  51,3  1,1803          NaN          NaN  "
      ]
     },
     "execution_count": 19,
     "metadata": {},
     "output_type": "execute_result"
    }
   ],
   "source": [
    "train.head()"
   ]
  },
  {
   "cell_type": "code",
   "execution_count": 20,
   "id": "beb8559d",
   "metadata": {},
   "outputs": [
    {
     "data": {
      "application/vnd.microsoft.datawrangler.viewer.v0+json": {
       "columns": [
        {
         "name": "index",
         "rawType": "int64",
         "type": "integer"
        },
        {
         "name": "Unnamed: 0",
         "rawType": "int64",
         "type": "integer"
        },
        {
         "name": "Date",
         "rawType": "object",
         "type": "string"
        },
        {
         "name": "Time",
         "rawType": "object",
         "type": "string"
        },
        {
         "name": "CO(GT)",
         "rawType": "object",
         "type": "string"
        },
        {
         "name": "PT08.S1(CO)",
         "rawType": "float64",
         "type": "float"
        },
        {
         "name": "NMHC(GT)",
         "rawType": "float64",
         "type": "float"
        },
        {
         "name": "C6H6(GT)",
         "rawType": "object",
         "type": "string"
        },
        {
         "name": "PT08.S2(NMHC)",
         "rawType": "float64",
         "type": "float"
        },
        {
         "name": "NOx(GT)",
         "rawType": "float64",
         "type": "float"
        },
        {
         "name": "PT08.S3(NOx)",
         "rawType": "float64",
         "type": "float"
        },
        {
         "name": "NO2(GT)",
         "rawType": "float64",
         "type": "float"
        },
        {
         "name": "PT08.S4(NO2)",
         "rawType": "float64",
         "type": "float"
        },
        {
         "name": "PT08.S5(O3)",
         "rawType": "float64",
         "type": "float"
        },
        {
         "name": "T",
         "rawType": "object",
         "type": "string"
        },
        {
         "name": "RH",
         "rawType": "object",
         "type": "string"
        },
        {
         "name": "AH",
         "rawType": "object",
         "type": "string"
        },
        {
         "name": "Unnamed: 15",
         "rawType": "float64",
         "type": "float"
        },
        {
         "name": "Unnamed: 16",
         "rawType": "float64",
         "type": "float"
        }
       ],
       "conversionMethod": "pd.DataFrame",
       "ref": "71f1e57f-20c4-49c9-9dd4-734a9c07ecc7",
       "rows": [
        [
         "0",
         "3123",
         "18/07/2004",
         "21.00.00",
         "1,2",
         "1067.0",
         "-200.0",
         "9,0",
         "938.0",
         "102.0",
         "825.0",
         "99.0",
         "1520.0",
         "912.0",
         "29,7",
         "24,8",
         "1,0160",
         null,
         null
        ],
        [
         "1",
         "877",
         "16/04/2004",
         "07.00.00",
         "4,5",
         "1657.0",
         "523.0",
         "23,2",
         "1384.0",
         "352.0",
         "579.0",
         "109.0",
         "2176.0",
         "1600.0",
         "12,8",
         "71,0",
         "1,0428",
         null,
         null
        ],
        [
         "2",
         "3457",
         "01/08/2004",
         "19.00.00",
         "1,4",
         "1037.0",
         "-200.0",
         "8,0",
         "900.0",
         "75.0",
         "817.0",
         "95.0",
         "1584.0",
         "619.0",
         "33,1",
         "32,7",
         "1,6200",
         null,
         null
        ],
        [
         "3",
         "1494",
         "12/05/2004",
         "00.00.00",
         "1,7",
         "1122.0",
         "-200.0",
         "8,7",
         "926.0",
         "105.0",
         "805.0",
         "88.0",
         "1619.0",
         "1174.0",
         "16,9",
         "58,8",
         "1,1250",
         null,
         null
        ],
        [
         "4",
         "713",
         "09/04/2004",
         "11.00.00",
         "2,6",
         "-200.0",
         "262.0",
         "-200,0",
         "-200.0",
         "219.0",
         "-200.0",
         "121.0",
         "-200.0",
         "-200.0",
         "-200",
         "-200",
         "-200",
         null,
         null
        ]
       ],
       "shape": {
        "columns": 18,
        "rows": 5
       }
      },
      "text/html": [
       "<div>\n",
       "<style scoped>\n",
       "    .dataframe tbody tr th:only-of-type {\n",
       "        vertical-align: middle;\n",
       "    }\n",
       "\n",
       "    .dataframe tbody tr th {\n",
       "        vertical-align: top;\n",
       "    }\n",
       "\n",
       "    .dataframe thead th {\n",
       "        text-align: right;\n",
       "    }\n",
       "</style>\n",
       "<table border=\"1\" class=\"dataframe\">\n",
       "  <thead>\n",
       "    <tr style=\"text-align: right;\">\n",
       "      <th></th>\n",
       "      <th>Unnamed: 0</th>\n",
       "      <th>Date</th>\n",
       "      <th>Time</th>\n",
       "      <th>CO(GT)</th>\n",
       "      <th>PT08.S1(CO)</th>\n",
       "      <th>NMHC(GT)</th>\n",
       "      <th>C6H6(GT)</th>\n",
       "      <th>PT08.S2(NMHC)</th>\n",
       "      <th>NOx(GT)</th>\n",
       "      <th>PT08.S3(NOx)</th>\n",
       "      <th>NO2(GT)</th>\n",
       "      <th>PT08.S4(NO2)</th>\n",
       "      <th>PT08.S5(O3)</th>\n",
       "      <th>T</th>\n",
       "      <th>RH</th>\n",
       "      <th>AH</th>\n",
       "      <th>Unnamed: 15</th>\n",
       "      <th>Unnamed: 16</th>\n",
       "    </tr>\n",
       "  </thead>\n",
       "  <tbody>\n",
       "    <tr>\n",
       "      <th>0</th>\n",
       "      <td>3123</td>\n",
       "      <td>18/07/2004</td>\n",
       "      <td>21.00.00</td>\n",
       "      <td>1,2</td>\n",
       "      <td>1067.0</td>\n",
       "      <td>-200.0</td>\n",
       "      <td>9,0</td>\n",
       "      <td>938.0</td>\n",
       "      <td>102.0</td>\n",
       "      <td>825.0</td>\n",
       "      <td>99.0</td>\n",
       "      <td>1520.0</td>\n",
       "      <td>912.0</td>\n",
       "      <td>29,7</td>\n",
       "      <td>24,8</td>\n",
       "      <td>1,0160</td>\n",
       "      <td>NaN</td>\n",
       "      <td>NaN</td>\n",
       "    </tr>\n",
       "    <tr>\n",
       "      <th>1</th>\n",
       "      <td>877</td>\n",
       "      <td>16/04/2004</td>\n",
       "      <td>07.00.00</td>\n",
       "      <td>4,5</td>\n",
       "      <td>1657.0</td>\n",
       "      <td>523.0</td>\n",
       "      <td>23,2</td>\n",
       "      <td>1384.0</td>\n",
       "      <td>352.0</td>\n",
       "      <td>579.0</td>\n",
       "      <td>109.0</td>\n",
       "      <td>2176.0</td>\n",
       "      <td>1600.0</td>\n",
       "      <td>12,8</td>\n",
       "      <td>71,0</td>\n",
       "      <td>1,0428</td>\n",
       "      <td>NaN</td>\n",
       "      <td>NaN</td>\n",
       "    </tr>\n",
       "    <tr>\n",
       "      <th>2</th>\n",
       "      <td>3457</td>\n",
       "      <td>01/08/2004</td>\n",
       "      <td>19.00.00</td>\n",
       "      <td>1,4</td>\n",
       "      <td>1037.0</td>\n",
       "      <td>-200.0</td>\n",
       "      <td>8,0</td>\n",
       "      <td>900.0</td>\n",
       "      <td>75.0</td>\n",
       "      <td>817.0</td>\n",
       "      <td>95.0</td>\n",
       "      <td>1584.0</td>\n",
       "      <td>619.0</td>\n",
       "      <td>33,1</td>\n",
       "      <td>32,7</td>\n",
       "      <td>1,6200</td>\n",
       "      <td>NaN</td>\n",
       "      <td>NaN</td>\n",
       "    </tr>\n",
       "    <tr>\n",
       "      <th>3</th>\n",
       "      <td>1494</td>\n",
       "      <td>12/05/2004</td>\n",
       "      <td>00.00.00</td>\n",
       "      <td>1,7</td>\n",
       "      <td>1122.0</td>\n",
       "      <td>-200.0</td>\n",
       "      <td>8,7</td>\n",
       "      <td>926.0</td>\n",
       "      <td>105.0</td>\n",
       "      <td>805.0</td>\n",
       "      <td>88.0</td>\n",
       "      <td>1619.0</td>\n",
       "      <td>1174.0</td>\n",
       "      <td>16,9</td>\n",
       "      <td>58,8</td>\n",
       "      <td>1,1250</td>\n",
       "      <td>NaN</td>\n",
       "      <td>NaN</td>\n",
       "    </tr>\n",
       "    <tr>\n",
       "      <th>4</th>\n",
       "      <td>713</td>\n",
       "      <td>09/04/2004</td>\n",
       "      <td>11.00.00</td>\n",
       "      <td>2,6</td>\n",
       "      <td>-200.0</td>\n",
       "      <td>262.0</td>\n",
       "      <td>-200,0</td>\n",
       "      <td>-200.0</td>\n",
       "      <td>219.0</td>\n",
       "      <td>-200.0</td>\n",
       "      <td>121.0</td>\n",
       "      <td>-200.0</td>\n",
       "      <td>-200.0</td>\n",
       "      <td>-200</td>\n",
       "      <td>-200</td>\n",
       "      <td>-200</td>\n",
       "      <td>NaN</td>\n",
       "      <td>NaN</td>\n",
       "    </tr>\n",
       "  </tbody>\n",
       "</table>\n",
       "</div>"
      ],
      "text/plain": [
       "   Unnamed: 0        Date      Time CO(GT)  PT08.S1(CO)  NMHC(GT) C6H6(GT)  \\\n",
       "0        3123  18/07/2004  21.00.00    1,2       1067.0    -200.0      9,0   \n",
       "1         877  16/04/2004  07.00.00    4,5       1657.0     523.0     23,2   \n",
       "2        3457  01/08/2004  19.00.00    1,4       1037.0    -200.0      8,0   \n",
       "3        1494  12/05/2004  00.00.00    1,7       1122.0    -200.0      8,7   \n",
       "4         713  09/04/2004  11.00.00    2,6       -200.0     262.0   -200,0   \n",
       "\n",
       "   PT08.S2(NMHC)  NOx(GT)  PT08.S3(NOx)  NO2(GT)  PT08.S4(NO2)  PT08.S5(O3)  \\\n",
       "0          938.0    102.0         825.0     99.0        1520.0        912.0   \n",
       "1         1384.0    352.0         579.0    109.0        2176.0       1600.0   \n",
       "2          900.0     75.0         817.0     95.0        1584.0        619.0   \n",
       "3          926.0    105.0         805.0     88.0        1619.0       1174.0   \n",
       "4         -200.0    219.0        -200.0    121.0        -200.0       -200.0   \n",
       "\n",
       "      T    RH      AH  Unnamed: 15  Unnamed: 16  \n",
       "0  29,7  24,8  1,0160          NaN          NaN  \n",
       "1  12,8  71,0  1,0428          NaN          NaN  \n",
       "2  33,1  32,7  1,6200          NaN          NaN  \n",
       "3  16,9  58,8  1,1250          NaN          NaN  \n",
       "4  -200  -200    -200          NaN          NaN  "
      ]
     },
     "execution_count": 20,
     "metadata": {},
     "output_type": "execute_result"
    }
   ],
   "source": [
    "test1.head()"
   ]
  },
  {
   "cell_type": "code",
   "execution_count": 21,
   "id": "38e3f58d",
   "metadata": {},
   "outputs": [
    {
     "data": {
      "application/vnd.microsoft.datawrangler.viewer.v0+json": {
       "columns": [
        {
         "name": "index",
         "rawType": "int64",
         "type": "integer"
        },
        {
         "name": "Unnamed: 0",
         "rawType": "int64",
         "type": "integer"
        },
        {
         "name": "Date",
         "rawType": "object",
         "type": "string"
        },
        {
         "name": "Time",
         "rawType": "object",
         "type": "string"
        },
        {
         "name": "CO(GT)",
         "rawType": "object",
         "type": "string"
        },
        {
         "name": "PT08.S1(CO)",
         "rawType": "float64",
         "type": "float"
        },
        {
         "name": "NMHC(GT)",
         "rawType": "float64",
         "type": "float"
        },
        {
         "name": "C6H6(GT)",
         "rawType": "object",
         "type": "string"
        },
        {
         "name": "PT08.S2(NMHC)",
         "rawType": "float64",
         "type": "float"
        },
        {
         "name": "NOx(GT)",
         "rawType": "float64",
         "type": "float"
        },
        {
         "name": "PT08.S3(NOx)",
         "rawType": "float64",
         "type": "float"
        },
        {
         "name": "NO2(GT)",
         "rawType": "float64",
         "type": "float"
        },
        {
         "name": "PT08.S4(NO2)",
         "rawType": "float64",
         "type": "float"
        },
        {
         "name": "PT08.S5(O3)",
         "rawType": "float64",
         "type": "float"
        },
        {
         "name": "T",
         "rawType": "object",
         "type": "string"
        },
        {
         "name": "RH",
         "rawType": "object",
         "type": "string"
        },
        {
         "name": "AH",
         "rawType": "object",
         "type": "string"
        },
        {
         "name": "Unnamed: 15",
         "rawType": "float64",
         "type": "float"
        },
        {
         "name": "Unnamed: 16",
         "rawType": "float64",
         "type": "float"
        }
       ],
       "conversionMethod": "pd.DataFrame",
       "ref": "3c3356cc-af2f-4e15-8749-82e874200c6c",
       "rows": [
        [
         "0",
         "8500",
         "27/02/2005",
         "22.00.00",
         "1,0",
         "875.0",
         "-200.0",
         "2,1",
         "594.0",
         "128.0",
         "1079.0",
         "105.0",
         "793.0",
         "451.0",
         "4,5",
         "48,0",
         "0,4085",
         null,
         null
        ],
        [
         "1",
         "8501",
         "27/02/2005",
         "23.00.00",
         "1,3",
         "943.0",
         "-200.0",
         "3,9",
         "703.0",
         "169.0",
         "950.0",
         "119.0",
         "870.0",
         "581.0",
         "4,3",
         "48,6",
         "0,4069",
         null,
         null
        ],
        [
         "2",
         "8502",
         "28/02/2005",
         "00.00.00",
         "1,6",
         "947.0",
         "-200.0",
         "3,8",
         "697.0",
         "215.0",
         "913.0",
         "150.0",
         "878.0",
         "698.0",
         "4,0",
         "50,0",
         "0,4115",
         null,
         null
        ],
        [
         "3",
         "8503",
         "28/02/2005",
         "01.00.00",
         "1,0",
         "865.0",
         "-200.0",
         "1,8",
         "566.0",
         "111.0",
         "1119.0",
         "94.0",
         "797.0",
         "423.0",
         "4,0",
         "52,9",
         "0,4338",
         null,
         null
        ],
        [
         "4",
         "8504",
         "28/02/2005",
         "02.00.00",
         "0,6",
         "823.0",
         "-200.0",
         "1,0",
         "503.0",
         "60.0",
         "1268.0",
         "56.0",
         "755.0",
         "332.0",
         "4,0",
         "51,0",
         "0,4200",
         null,
         null
        ]
       ],
       "shape": {
        "columns": 18,
        "rows": 5
       }
      },
      "text/html": [
       "<div>\n",
       "<style scoped>\n",
       "    .dataframe tbody tr th:only-of-type {\n",
       "        vertical-align: middle;\n",
       "    }\n",
       "\n",
       "    .dataframe tbody tr th {\n",
       "        vertical-align: top;\n",
       "    }\n",
       "\n",
       "    .dataframe thead th {\n",
       "        text-align: right;\n",
       "    }\n",
       "</style>\n",
       "<table border=\"1\" class=\"dataframe\">\n",
       "  <thead>\n",
       "    <tr style=\"text-align: right;\">\n",
       "      <th></th>\n",
       "      <th>Unnamed: 0</th>\n",
       "      <th>Date</th>\n",
       "      <th>Time</th>\n",
       "      <th>CO(GT)</th>\n",
       "      <th>PT08.S1(CO)</th>\n",
       "      <th>NMHC(GT)</th>\n",
       "      <th>C6H6(GT)</th>\n",
       "      <th>PT08.S2(NMHC)</th>\n",
       "      <th>NOx(GT)</th>\n",
       "      <th>PT08.S3(NOx)</th>\n",
       "      <th>NO2(GT)</th>\n",
       "      <th>PT08.S4(NO2)</th>\n",
       "      <th>PT08.S5(O3)</th>\n",
       "      <th>T</th>\n",
       "      <th>RH</th>\n",
       "      <th>AH</th>\n",
       "      <th>Unnamed: 15</th>\n",
       "      <th>Unnamed: 16</th>\n",
       "    </tr>\n",
       "  </thead>\n",
       "  <tbody>\n",
       "    <tr>\n",
       "      <th>0</th>\n",
       "      <td>8500</td>\n",
       "      <td>27/02/2005</td>\n",
       "      <td>22.00.00</td>\n",
       "      <td>1,0</td>\n",
       "      <td>875.0</td>\n",
       "      <td>-200.0</td>\n",
       "      <td>2,1</td>\n",
       "      <td>594.0</td>\n",
       "      <td>128.0</td>\n",
       "      <td>1079.0</td>\n",
       "      <td>105.0</td>\n",
       "      <td>793.0</td>\n",
       "      <td>451.0</td>\n",
       "      <td>4,5</td>\n",
       "      <td>48,0</td>\n",
       "      <td>0,4085</td>\n",
       "      <td>NaN</td>\n",
       "      <td>NaN</td>\n",
       "    </tr>\n",
       "    <tr>\n",
       "      <th>1</th>\n",
       "      <td>8501</td>\n",
       "      <td>27/02/2005</td>\n",
       "      <td>23.00.00</td>\n",
       "      <td>1,3</td>\n",
       "      <td>943.0</td>\n",
       "      <td>-200.0</td>\n",
       "      <td>3,9</td>\n",
       "      <td>703.0</td>\n",
       "      <td>169.0</td>\n",
       "      <td>950.0</td>\n",
       "      <td>119.0</td>\n",
       "      <td>870.0</td>\n",
       "      <td>581.0</td>\n",
       "      <td>4,3</td>\n",
       "      <td>48,6</td>\n",
       "      <td>0,4069</td>\n",
       "      <td>NaN</td>\n",
       "      <td>NaN</td>\n",
       "    </tr>\n",
       "    <tr>\n",
       "      <th>2</th>\n",
       "      <td>8502</td>\n",
       "      <td>28/02/2005</td>\n",
       "      <td>00.00.00</td>\n",
       "      <td>1,6</td>\n",
       "      <td>947.0</td>\n",
       "      <td>-200.0</td>\n",
       "      <td>3,8</td>\n",
       "      <td>697.0</td>\n",
       "      <td>215.0</td>\n",
       "      <td>913.0</td>\n",
       "      <td>150.0</td>\n",
       "      <td>878.0</td>\n",
       "      <td>698.0</td>\n",
       "      <td>4,0</td>\n",
       "      <td>50,0</td>\n",
       "      <td>0,4115</td>\n",
       "      <td>NaN</td>\n",
       "      <td>NaN</td>\n",
       "    </tr>\n",
       "    <tr>\n",
       "      <th>3</th>\n",
       "      <td>8503</td>\n",
       "      <td>28/02/2005</td>\n",
       "      <td>01.00.00</td>\n",
       "      <td>1,0</td>\n",
       "      <td>865.0</td>\n",
       "      <td>-200.0</td>\n",
       "      <td>1,8</td>\n",
       "      <td>566.0</td>\n",
       "      <td>111.0</td>\n",
       "      <td>1119.0</td>\n",
       "      <td>94.0</td>\n",
       "      <td>797.0</td>\n",
       "      <td>423.0</td>\n",
       "      <td>4,0</td>\n",
       "      <td>52,9</td>\n",
       "      <td>0,4338</td>\n",
       "      <td>NaN</td>\n",
       "      <td>NaN</td>\n",
       "    </tr>\n",
       "    <tr>\n",
       "      <th>4</th>\n",
       "      <td>8504</td>\n",
       "      <td>28/02/2005</td>\n",
       "      <td>02.00.00</td>\n",
       "      <td>0,6</td>\n",
       "      <td>823.0</td>\n",
       "      <td>-200.0</td>\n",
       "      <td>1,0</td>\n",
       "      <td>503.0</td>\n",
       "      <td>60.0</td>\n",
       "      <td>1268.0</td>\n",
       "      <td>56.0</td>\n",
       "      <td>755.0</td>\n",
       "      <td>332.0</td>\n",
       "      <td>4,0</td>\n",
       "      <td>51,0</td>\n",
       "      <td>0,4200</td>\n",
       "      <td>NaN</td>\n",
       "      <td>NaN</td>\n",
       "    </tr>\n",
       "  </tbody>\n",
       "</table>\n",
       "</div>"
      ],
      "text/plain": [
       "   Unnamed: 0        Date      Time CO(GT)  PT08.S1(CO)  NMHC(GT) C6H6(GT)  \\\n",
       "0        8500  27/02/2005  22.00.00    1,0        875.0    -200.0      2,1   \n",
       "1        8501  27/02/2005  23.00.00    1,3        943.0    -200.0      3,9   \n",
       "2        8502  28/02/2005  00.00.00    1,6        947.0    -200.0      3,8   \n",
       "3        8503  28/02/2005  01.00.00    1,0        865.0    -200.0      1,8   \n",
       "4        8504  28/02/2005  02.00.00    0,6        823.0    -200.0      1,0   \n",
       "\n",
       "   PT08.S2(NMHC)  NOx(GT)  PT08.S3(NOx)  NO2(GT)  PT08.S4(NO2)  PT08.S5(O3)  \\\n",
       "0          594.0    128.0        1079.0    105.0         793.0        451.0   \n",
       "1          703.0    169.0         950.0    119.0         870.0        581.0   \n",
       "2          697.0    215.0         913.0    150.0         878.0        698.0   \n",
       "3          566.0    111.0        1119.0     94.0         797.0        423.0   \n",
       "4          503.0     60.0        1268.0     56.0         755.0        332.0   \n",
       "\n",
       "     T    RH      AH  Unnamed: 15  Unnamed: 16  \n",
       "0  4,5  48,0  0,4085          NaN          NaN  \n",
       "1  4,3  48,6  0,4069          NaN          NaN  \n",
       "2  4,0  50,0  0,4115          NaN          NaN  \n",
       "3  4,0  52,9  0,4338          NaN          NaN  \n",
       "4  4,0  51,0  0,4200          NaN          NaN  "
      ]
     },
     "execution_count": 21,
     "metadata": {},
     "output_type": "execute_result"
    }
   ],
   "source": [
    "test2.head()"
   ]
  },
  {
   "cell_type": "code",
   "execution_count": 29,
   "id": "19bc0669",
   "metadata": {},
   "outputs": [],
   "source": [
    "train_no2 = train['NO2(GT)']\n",
    "test1_no2 = test1['NO2(GT)']\n",
    "test2_no2 = test2['NO2(GT)']\n",
    "\n",
    " #removing the places where the value of NO2(GT) column is negative\n",
    " \n",
    "train_no2_new = train_no2[(train_no2 >= 0)].dropna()\n",
    "test1_no2_new = test1_no2[(test1_no2 >= 0)].dropna()\n",
    "test2_no2_new = test2_no2[(test2_no2 >= 0)].dropna()"
   ]
  },
  {
   "cell_type": "code",
   "execution_count": 30,
   "id": "3edaa0bb",
   "metadata": {},
   "outputs": [
    {
     "name": "stdout",
     "output_type": "stream",
     "text": [
      "\n",
      "Train NO2(GT): count    3200.000000\n",
      "mean       45.605625\n",
      "std       114.663990\n",
      "min      -200.000000\n",
      "25%        47.750000\n",
      "50%        84.000000\n",
      "75%       114.000000\n",
      "max       233.000000\n",
      "Name: NO2(GT), dtype: float64\n",
      "Test1 NO2(GT): count    800.000000\n",
      "mean      42.621250\n",
      "std      117.115831\n",
      "min     -200.000000\n",
      "25%       46.750000\n",
      "50%       84.000000\n",
      "75%      114.000000\n",
      "max      223.000000\n",
      "Name: NO2(GT), dtype: float64\n",
      "Test2 NO2(GT): count    800.000000\n",
      "mean     129.682500\n",
      "std       61.071957\n",
      "min     -200.000000\n",
      "25%      100.000000\n",
      "50%      133.000000\n",
      "75%      163.250000\n",
      "max      248.000000\n",
      "Name: NO2(GT), dtype: float64\n"
     ]
    }
   ],
   "source": [
    "print(\"\\nTrain NO2(GT):\", train_no2.describe())\n",
    "print(\"Test1 NO2(GT):\", test1_no2.describe())\n",
    "print(\"Test2 NO2(GT):\", test2_no2.describe())"
   ]
  },
  {
   "cell_type": "code",
   "execution_count": 31,
   "metadata": {},
   "outputs": [
    {
     "name": "stdout",
     "output_type": "stream",
     "text": [
      "\n",
      "Train NO2(GT): count    2668.000000\n",
      "mean       94.579460\n",
      "std        36.584146\n",
      "min         5.000000\n",
      "25%        67.000000\n",
      "50%        94.000000\n",
      "75%       120.000000\n",
      "max       233.000000\n",
      "Name: NO2(GT), dtype: float64\n",
      "Test1 NO2(GT): count    659.000000\n",
      "mean      94.532625\n",
      "std       36.639541\n",
      "min        5.000000\n",
      "25%       66.000000\n",
      "50%       94.000000\n",
      "75%      118.000000\n",
      "max      223.000000\n",
      "Name: NO2(GT), dtype: float64\n",
      "Test2 NO2(GT): count    788.000000\n",
      "mean     134.703046\n",
      "std       45.870772\n",
      "min       25.000000\n",
      "25%      101.000000\n",
      "50%      134.000000\n",
      "75%      164.000000\n",
      "max      248.000000\n",
      "Name: NO2(GT), dtype: float64\n"
     ]
    }
   ],
   "source": [
    "# just preview\n",
    "print(\"\\nTrain NO2(GT):\", train_no2_new.describe())\n",
    "print(\"Test1 NO2(GT):\", test1_no2_new.describe())\n",
    "print(\"Test2 NO2(GT):\", test2_no2_new.describe())"
   ]
  },
  {
   "cell_type": "code",
   "execution_count": 32,
   "id": "472f2989",
   "metadata": {},
   "outputs": [
    {
     "name": "stdout",
     "output_type": "stream",
     "text": [
      "Test1 vs. Train: KS Stat = 0.0171, P-Value = 0.9971\n",
      "Test2 vs. Train: KS Stat = 0.3689, P-Value = 0.0000\n"
     ]
    }
   ],
   "source": [
    "# comparing train vs test1\n",
    "ks_stat1, p_val1 = ks_2samp(train_no2_new, test1_no2_new)\n",
    "print(f\"Test1 vs. Train: KS Stat = {ks_stat1:.4f}, P-Value = {p_val1:.4f}\")\n",
    "\n",
    "\n",
    "# comparing train vs test2\n",
    "ks_stat2, p_val2 = ks_2samp(train_no2_new, test2_no2_new)\n",
    "print(f\"Test2 vs. Train: KS Stat = {ks_stat2:.4f}, P-Value = {p_val2:.4f}\")\n",
    "\n"
   ]
  },
  {
   "cell_type": "code",
   "execution_count": 33,
   "id": "03a5fe67",
   "metadata": {},
   "outputs": [
    {
     "name": "stdout",
     "output_type": "stream",
     "text": [
      "Covariate Shift in Test1: False\n",
      "Covariate Shift in Test2: True\n"
     ]
    }
   ],
   "source": [
    "alpha = 0.05\n",
    "shift_test1 = p_val1 < alpha  # True if shift detected\n",
    "shift_test2 = p_val2 < alpha\n",
    "\n",
    "print(f\"Covariate Shift in Test1: {shift_test1}\")\n",
    "print(f\"Covariate Shift in Test2: {shift_test2}\")"
   ]
  },
  {
   "cell_type": "code",
   "execution_count": 26,
   "id": "7c4155ab",
   "metadata": {},
   "outputs": [
    {
     "name": "stdout",
     "output_type": "stream",
     "text": [
      "Test2 shows a larger covariate shift from training data.\n"
     ]
    }
   ],
   "source": [
    "# Covariance shift\n",
    "\n",
    "if ks_stat1 > ks_stat2:\n",
    "    print(\"Test1 shows a larger covariate shift from training data.\")\n",
    "else:\n",
    "    print(\"Test2 shows a larger covariate shift from training data.\")\n"
   ]
  }
 ],
 "metadata": {
  "kernelspec": {
   "display_name": "base",
   "language": "python",
   "name": "python3"
  },
  "language_info": {
   "codemirror_mode": {
    "name": "ipython",
    "version": 3
   },
   "file_extension": ".py",
   "mimetype": "text/x-python",
   "name": "python",
   "nbconvert_exporter": "python",
   "pygments_lexer": "ipython3",
   "version": "3.12.7"
  }
 },
 "nbformat": 4,
 "nbformat_minor": 5
}
